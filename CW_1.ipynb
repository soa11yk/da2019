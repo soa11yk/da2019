{
  "nbformat": 4,
  "nbformat_minor": 0,
  "metadata": {
    "colab": {
      "name": "CW_1.ipynb",
      "version": "0.3.2",
      "provenance": [],
      "collapsed_sections": [],
      "include_colab_link": true
    },
    "kernelspec": {
      "display_name": "Python 3",
      "language": "python",
      "name": "python3"
    }
  },
  "cells": [
    {
      "cell_type": "markdown",
      "metadata": {
        "id": "view-in-github",
        "colab_type": "text"
      },
      "source": [
        "<a href=\"https://colab.research.google.com/github/soa11yk/da2019/blob/master/CW_1.ipynb\" target=\"_parent\"><img src=\"https://colab.research.google.com/assets/colab-badge.svg\" alt=\"Open In Colab\"/></a>"
      ]
    },
    {
      "metadata": {
        "id": "5gTP64AVaFHX",
        "colab_type": "code",
        "colab": {}
      },
      "cell_type": "code",
      "source": [
        "# Code to read csv file into Colaboratory:\n",
        "!pip install -U -q PyDrive\n",
        "from pydrive.auth import GoogleAuth\n",
        "from pydrive.drive import GoogleDrive\n",
        "from google.colab import auth\n",
        "from oauth2client.client import GoogleCredentials\n",
        "# Authenticate and create the PyDrive client.\n",
        "auth.authenticate_user()\n",
        "gauth = GoogleAuth()\n",
        "gauth.credentials = GoogleCredentials.get_application_default()\n",
        "drive = GoogleDrive(gauth)"
      ],
      "execution_count": 0,
      "outputs": []
    },
    {
      "metadata": {
        "id": "BRvXBb_OaXfi",
        "colab_type": "code",
        "colab": {
          "base_uri": "https://localhost:8080/",
          "height": 34
        },
        "outputId": "cfbf795a-cbe0-46ef-c4bc-e8d44257a964"
      },
      "cell_type": "code",
      "source": [
        "link = 'https://drive.google.com/open?id=1bq68cKiYYjLAMJnrSuHqCkTXjTB5oYoi' # The shareable link\n",
        "fluff, id = link.split('=')\n",
        "print (id) # Verify that you have everything after '='\n",
        "\n"
      ],
      "execution_count": 17,
      "outputs": [
        {
          "output_type": "stream",
          "text": [
            "1bq68cKiYYjLAMJnrSuHqCkTXjTB5oYoi\n"
          ],
          "name": "stdout"
        }
      ]
    },
    {
      "metadata": {
        "id": "ZNt6KXKQbFgw",
        "colab_type": "code",
        "colab": {
          "base_uri": "https://localhost:8080/",
          "height": 34
        },
        "outputId": "a0c0a05f-4090-4783-b1e4-377f4b4c66ac"
      },
      "cell_type": "code",
      "source": [
        "link1 = 'https://drive.google.com/open?id=1bGYNfD6D-QdwaRZjl5QpRLNdIDmOmF_c' # The shareable link\n",
        "fluff, id1 = link1.split('=')\n",
        "print (id1) # Verify that you have everything after '='"
      ],
      "execution_count": 23,
      "outputs": [
        {
          "output_type": "stream",
          "text": [
            "1bGYNfD6D-QdwaRZjl5QpRLNdIDmOmF_c\n"
          ],
          "name": "stdout"
        }
      ]
    },
    {
      "metadata": {
        "id": "wV0Ui6D7dzHJ",
        "colab_type": "code",
        "colab": {
          "base_uri": "https://localhost:8080/",
          "height": 34
        },
        "outputId": "4d56478f-71d6-4cd8-9721-02041a9d4a26"
      },
      "cell_type": "code",
      "source": [
        "link2 = 'https://drive.google.com/open?id=1AyfwcGYqw8Rvo5bXil8rE8ZigqHxMuxv' # The shareable link\n",
        "fluff, id2 = link2.split('=')\n",
        "print (id2) # Verify that you have everything after '='"
      ],
      "execution_count": 27,
      "outputs": [
        {
          "output_type": "stream",
          "text": [
            "1AyfwcGYqw8Rvo5bXil8rE8ZigqHxMuxv\n"
          ],
          "name": "stdout"
        }
      ]
    },
    {
      "metadata": {
        "id": "Oq9HmUomgU11",
        "colab_type": "code",
        "colab": {
          "base_uri": "https://localhost:8080/",
          "height": 34
        },
        "outputId": "c257dd13-1808-4408-a56d-5395f5bd2f23"
      },
      "cell_type": "code",
      "source": [
        "link3 = 'https://drive.google.com/open?id=1tYhtY6VHrVl9-BmZ_kqxsvqKQ6yc9L5j' # The shareable link\n",
        "fluff, id3 = link3.split('=')\n",
        "print (id3) # Verify that you have everything after '='"
      ],
      "execution_count": 75,
      "outputs": [
        {
          "output_type": "stream",
          "text": [
            "1tYhtY6VHrVl9-BmZ_kqxsvqKQ6yc9L5j\n"
          ],
          "name": "stdout"
        }
      ]
    },
    {
      "metadata": {
        "id": "oyR6NsgyauGd",
        "colab_type": "code",
        "colab": {}
      },
      "cell_type": "code",
      "source": [
        "import pandas as pd\n",
        "import io\n",
        "downloaded = drive.CreateFile({'id':id}) \n",
        "downloaded.GetContentFile('application_train.csv')  \n",
        "train_df = pd.read_csv('application_train.csv')"
      ],
      "execution_count": 0,
      "outputs": []
    },
    {
      "metadata": {
        "id": "i_cNftD8chV2",
        "colab_type": "code",
        "colab": {}
      },
      "cell_type": "code",
      "source": [
        "downloaded1 = drive.CreateFile({'id':id1}) \n",
        "downloaded1.GetContentFile('application_test.csv')  \n",
        "test_df = pd.read_csv('application_test.csv')"
      ],
      "execution_count": 0,
      "outputs": []
    },
    {
      "metadata": {
        "id": "TdSsIi9deA9C",
        "colab_type": "code",
        "colab": {}
      },
      "cell_type": "code",
      "source": [
        "downloaded2 = drive.CreateFile({'id':id2}) \n",
        "downloaded2.GetContentFile('bureau.csv')  \n",
        "bureau_df = pd.read_csv('bureau.csv')"
      ],
      "execution_count": 0,
      "outputs": []
    },
    {
      "metadata": {
        "id": "i31rhRJ9gnRo",
        "colab_type": "code",
        "colab": {}
      },
      "cell_type": "code",
      "source": [
        "downloaded3 = drive.CreateFile({'id':id3}) \n",
        "downloaded3.GetContentFile('previous_application.csv')  \n",
        "prev_df = pd.read_csv('previous_application.csv')"
      ],
      "execution_count": 0,
      "outputs": []
    },
    {
      "metadata": {
        "colab_type": "code",
        "id": "czmZIOlgPcHq",
        "outputId": "a34b8073-8eeb-47dc-9e83-45c4a7357795",
        "colab": {
          "base_uri": "https://localhost:8080/",
          "height": 232
        }
      },
      "cell_type": "code",
      "source": [
        "# import pandas as pd\n",
        "# import io\n",
        "\n",
        "# train_df = pd.read_csv(io.StringIO(uploaded['application_train.csv'].decode('utf-8')))\n",
        "# train_df.head()\n",
        "y_train_df = train_df['TARGET']\n"
      ],
      "execution_count": 0,
      "outputs": [
        {
          "output_type": "error",
          "ename": "KeyError",
          "evalue": "ignored",
          "traceback": [
            "\u001b[0;31m---------------------------------------------------------------------------\u001b[0m",
            "\u001b[0;31mKeyError\u001b[0m                                  Traceback (most recent call last)",
            "\u001b[0;32m<ipython-input-71-3e85069bb2a1>\u001b[0m in \u001b[0;36m<module>\u001b[0;34m()\u001b[0m\n\u001b[1;32m      2\u001b[0m \u001b[0;32mimport\u001b[0m \u001b[0mio\u001b[0m\u001b[0;34m\u001b[0m\u001b[0;34m\u001b[0m\u001b[0m\n\u001b[1;32m      3\u001b[0m \u001b[0;34m\u001b[0m\u001b[0m\n\u001b[0;32m----> 4\u001b[0;31m \u001b[0mtrain_df\u001b[0m \u001b[0;34m=\u001b[0m \u001b[0mpd\u001b[0m\u001b[0;34m.\u001b[0m\u001b[0mread_csv\u001b[0m\u001b[0;34m(\u001b[0m\u001b[0mio\u001b[0m\u001b[0;34m.\u001b[0m\u001b[0mStringIO\u001b[0m\u001b[0;34m(\u001b[0m\u001b[0muploaded\u001b[0m\u001b[0;34m[\u001b[0m\u001b[0;34m'application_train.csv'\u001b[0m\u001b[0;34m]\u001b[0m\u001b[0;34m.\u001b[0m\u001b[0mdecode\u001b[0m\u001b[0;34m(\u001b[0m\u001b[0;34m'utf-8'\u001b[0m\u001b[0;34m)\u001b[0m\u001b[0;34m)\u001b[0m\u001b[0;34m)\u001b[0m\u001b[0;34m\u001b[0m\u001b[0;34m\u001b[0m\u001b[0m\n\u001b[0m\u001b[1;32m      5\u001b[0m \u001b[0mtrain_df\u001b[0m\u001b[0;34m.\u001b[0m\u001b[0mhead\u001b[0m\u001b[0;34m(\u001b[0m\u001b[0;34m)\u001b[0m\u001b[0;34m\u001b[0m\u001b[0;34m\u001b[0m\u001b[0m\n\u001b[1;32m      6\u001b[0m \u001b[0my_train_df\u001b[0m \u001b[0;34m=\u001b[0m \u001b[0mtrain_df\u001b[0m\u001b[0;34m[\u001b[0m\u001b[0;34m'TARGET'\u001b[0m\u001b[0;34m]\u001b[0m\u001b[0;34m\u001b[0m\u001b[0;34m\u001b[0m\u001b[0m\n",
            "\u001b[0;31mKeyError\u001b[0m: 'application_train.csv'"
          ]
        }
      ]
    },
    {
      "metadata": {
        "colab_type": "code",
        "id": "KruuWc8UKmgU",
        "colab": {
          "base_uri": "https://localhost:8080/",
          "height": 164
        },
        "outputId": "19f64a8e-e69a-48eb-b257-6e76803f292d"
      },
      "cell_type": "code",
      "source": [
        "# test_df = pd.read_csv(io.StringIO(uploaded['application_test.csv'].decode('utf-8')))\n",
        "test_df.shape\n"
      ],
      "execution_count": 1,
      "outputs": [
        {
          "output_type": "error",
          "ename": "NameError",
          "evalue": "ignored",
          "traceback": [
            "\u001b[0;31m---------------------------------------------------------------------------\u001b[0m",
            "\u001b[0;31mNameError\u001b[0m                                 Traceback (most recent call last)",
            "\u001b[0;32m<ipython-input-1-8dce04e9bdce>\u001b[0m in \u001b[0;36m<module>\u001b[0;34m()\u001b[0m\n\u001b[0;32m----> 1\u001b[0;31m \u001b[0mtest_df\u001b[0m\u001b[0;34m.\u001b[0m\u001b[0mshape\u001b[0m\u001b[0;34m\u001b[0m\u001b[0;34m\u001b[0m\u001b[0m\n\u001b[0m",
            "\u001b[0;31mNameError\u001b[0m: name 'test_df' is not defined"
          ]
        }
      ]
    },
    {
      "metadata": {
        "id": "BKGouKJcd972",
        "colab_type": "code",
        "colab": {}
      },
      "cell_type": "code",
      "source": [
        "# prev_app_df = pd.read_csv(io.StringIO(uploaded['application_test.csv'].decode('utf-8')))\n",
        "# pcb_df = pd.read_csv(io.StringIO(uploaded['application_test.csv'].decode('utf-8')))\n",
        "# ccbal_df = pd.read_csv(io.StringIO(uploaded['application_test.csv'].decode('utf-8')))\n"
      ],
      "execution_count": 0,
      "outputs": []
    },
    {
      "metadata": {
        "id": "waeAaCtTpOhS",
        "colab_type": "code",
        "colab": {
          "base_uri": "https://localhost:8080/",
          "height": 5474
        },
        "outputId": "b498be2c-6f9a-4ed0-e137-ee715333d64b"
      },
      "cell_type": "code",
      "source": [
        "bureau_df.shape\n",
        "bureau_df = bureau_df.groupby('SK_ID_CURR').mean()\n",
        "bureau_df.shape\n",
        "bureau_df.head\n"
      ],
      "execution_count": 29,
      "outputs": [
        {
          "output_type": "execute_result",
          "data": {
            "text/plain": [
              "<bound method NDFrame.head of             SK_ID_BUREAU  DAYS_CREDIT  CREDIT_DAY_OVERDUE  \\\n",
              "SK_ID_CURR                                                  \n",
              "100001      5.896633e+06  -735.000000                 0.0   \n",
              "100002      6.153272e+06  -874.000000                 0.0   \n",
              "100003      5.885878e+06 -1400.750000                 0.0   \n",
              "100004      6.829134e+06  -867.000000                 0.0   \n",
              "100005      6.735201e+06  -190.666667                 0.0   \n",
              "100007      5.987200e+06 -1149.000000                 0.0   \n",
              "100008      6.491433e+06  -757.333333                 0.0   \n",
              "100009      5.651005e+06 -1271.500000                 0.0   \n",
              "100010      5.576631e+06 -1939.500000                 0.0   \n",
              "100011      5.741084e+06 -1773.000000                 0.0   \n",
              "100013      5.922081e+06 -1737.500000                 0.0   \n",
              "100014      5.326770e+06 -1095.375000                 0.0   \n",
              "100015      5.473350e+06  -947.750000                 0.0   \n",
              "100016      5.217357e+06  -618.428571                 0.0   \n",
              "100017      5.704886e+06 -1944.333333                 0.0   \n",
              "100019      5.832096e+06  -495.000000                 0.0   \n",
              "100020      6.093290e+06  -261.500000                 0.0   \n",
              "100022      6.795608e+06  -337.000000                 0.0   \n",
              "100023      6.296143e+06 -1164.384615                 0.0   \n",
              "100025      6.187585e+06  -700.000000                 0.0   \n",
              "100026      5.103097e+06  -679.000000                 0.0   \n",
              "100027      5.904154e+06  -793.000000                 0.0   \n",
              "100028      6.356884e+06 -1401.750000                 0.0   \n",
              "100029      5.460404e+06 -1416.750000                 0.0   \n",
              "100030      6.584422e+06  -930.833333                 0.0   \n",
              "100031      6.187664e+06  -579.571429                 0.0   \n",
              "100032      5.038524e+06 -1071.000000                 0.0   \n",
              "100033      5.943236e+06  -195.000000                 0.0   \n",
              "100035      5.407253e+06 -1399.333333                 0.0   \n",
              "100036      6.673494e+06  -889.000000                 0.0   \n",
              "...                  ...          ...                 ...   \n",
              "456220      5.015729e+06 -1000.800000                 0.0   \n",
              "456221      6.645689e+06  -727.200000                 0.0   \n",
              "456223      6.433063e+06  -539.000000                 0.0   \n",
              "456224      6.438680e+06 -1755.823529                 0.0   \n",
              "456225      6.311765e+06 -1053.000000                 0.0   \n",
              "456226      5.776436e+06  -455.000000                 0.0   \n",
              "456227      5.394376e+06 -1596.250000                 0.0   \n",
              "456229      6.487026e+06 -1839.000000                 0.0   \n",
              "456230      6.006131e+06 -1254.833333                 1.0   \n",
              "456231      5.856978e+06  -712.285714                 0.0   \n",
              "456232      5.301868e+06  -529.500000                 0.0   \n",
              "456233      5.633934e+06  -203.000000                 0.0   \n",
              "456234      5.087536e+06  -756.600000                 0.0   \n",
              "456235      6.163534e+06 -1785.000000                 0.0   \n",
              "456236      6.004318e+06 -1270.153846                 0.0   \n",
              "456237      5.118918e+06 -1430.000000                 0.0   \n",
              "456238      6.460416e+06 -2157.833333                 0.0   \n",
              "456239      5.319579e+06 -1529.909091                 0.0   \n",
              "456240      6.717952e+06 -1438.500000                 0.0   \n",
              "456241      5.573238e+06 -1599.200000                 0.0   \n",
              "456242      6.702236e+06  -491.000000                 0.0   \n",
              "456243      5.208987e+06  -710.571429                 0.0   \n",
              "456244      6.643937e+06 -1740.956522                 0.0   \n",
              "456246      5.366286e+06 -1361.000000                 0.0   \n",
              "456247      6.238913e+06 -1043.181818                 0.0   \n",
              "456249      5.371700e+06 -1667.076923                 0.0   \n",
              "456250      6.817237e+06  -862.000000                 0.0   \n",
              "456253      5.885018e+06  -867.500000                 0.0   \n",
              "456254      6.669849e+06 -1104.000000                 0.0   \n",
              "456255      5.126332e+06 -1089.454545                 0.0   \n",
              "\n",
              "            DAYS_CREDIT_ENDDATE  DAYS_ENDDATE_FACT  AMT_CREDIT_MAX_OVERDUE  \\\n",
              "SK_ID_CURR                                                                   \n",
              "100001                82.428571        -825.500000                     NaN   \n",
              "100002              -349.000000        -697.500000             1681.029000   \n",
              "100003              -544.500000       -1097.333333                0.000000   \n",
              "100004              -488.500000        -532.500000                0.000000   \n",
              "100005               439.333333        -123.000000                0.000000   \n",
              "100007              -783.000000        -783.000000                0.000000   \n",
              "100008              -391.333333        -909.000000                0.000000   \n",
              "100009              -794.937500       -1108.500000                0.000000   \n",
              "100010              -119.500000       -1138.000000                     NaN   \n",
              "100011             -1293.250000       -1463.250000             5073.615000   \n",
              "100013             -1068.000000       -1054.750000            19305.000000   \n",
              "100014              -387.375000        -821.333333             3726.352500   \n",
              "100015              -598.250000        -555.500000                     NaN   \n",
              "100016              -217.142857        -929.666667                0.000000   \n",
              "100017             -1512.333333       -1677.833333                0.000000   \n",
              "100019              5441.000000                NaN                0.000000   \n",
              "100020               -32.500000        -223.000000                0.000000   \n",
              "100022               940.000000                NaN                0.000000   \n",
              "100023              -364.916667        -997.300000             2720.850000   \n",
              "100025              1124.000000                NaN                     NaN   \n",
              "100026               899.000000        -916.000000                0.000000   \n",
              "100027              -278.333333        -902.500000             2565.000000   \n",
              "100028              2387.700000       -1238.285714                0.000000   \n",
              "100029              -336.333333       -1541.333333                     NaN   \n",
              "100030               -61.600000        -624.000000                0.000000   \n",
              "100031               468.600000        -449.000000                     NaN   \n",
              "100032              -525.250000        -636.666667                0.000000   \n",
              "100033               913.000000                NaN                     NaN   \n",
              "100035               487.000000       -2023.750000            13760.066250   \n",
              "100036              -462.000000                NaN                     NaN   \n",
              "...                         ...                ...                     ...   \n",
              "456220              5134.000000       -1076.666667                0.000000   \n",
              "456221                 7.000000        -457.666667            11427.750000   \n",
              "456223              -382.250000        -412.750000                0.000000   \n",
              "456224              -865.875000       -1530.909091             1492.488000   \n",
              "456225               253.125000        -714.000000                     NaN   \n",
              "456226               514.000000                NaN                     NaN   \n",
              "456227              -726.250000       -1305.000000             4680.000000   \n",
              "456229              9118.000000                NaN            11353.500000   \n",
              "456230              2025.200000       -1091.000000                0.000000   \n",
              "456231               536.714286        -529.500000                     NaN   \n",
              "456232               506.000000                NaN                     NaN   \n",
              "456233               528.000000                NaN                0.000000   \n",
              "456234              -205.100000        -701.714286            10364.122500   \n",
              "456235              1381.333333       -1243.500000                0.000000   \n",
              "456236               478.769231       -1343.888889             2805.545455   \n",
              "456237              -699.000000       -1090.000000                     NaN   \n",
              "456238             -1561.666667       -2362.500000             3191.737500   \n",
              "456239               333.000000       -1534.166667                0.000000   \n",
              "456240             12425.000000       -2464.000000             3996.000000   \n",
              "456241             -1623.000000        -695.666667                     NaN   \n",
              "456242               509.000000                NaN                     NaN   \n",
              "456243              -459.400000        -455.000000                0.000000   \n",
              "456244             -1132.090909       -1480.578947             7602.390000   \n",
              "456246              -234.666667       -1331.000000                     NaN   \n",
              "456247              1449.818182       -1085.000000             5932.676250   \n",
              "456249             -1232.333333       -1364.750000             6147.000000   \n",
              "456250              1288.333333        -760.000000                0.000000   \n",
              "456253               280.500000        -794.000000                     NaN   \n",
              "456254              -859.000000        -859.000000                     NaN   \n",
              "456255              3231.272727        -968.333333            12056.481000   \n",
              "\n",
              "            CNT_CREDIT_PROLONG  AMT_CREDIT_SUM  AMT_CREDIT_SUM_DEBT  \\\n",
              "SK_ID_CURR                                                            \n",
              "100001                0.000000    2.076236e+05         8.524093e+04   \n",
              "100002                0.000000    1.081319e+05         4.915620e+04   \n",
              "100003                0.000000    2.543501e+05         0.000000e+00   \n",
              "100004                0.000000    9.451890e+04         0.000000e+00   \n",
              "100005                0.000000    2.190420e+05         1.894695e+05   \n",
              "100007                0.000000    1.462500e+05         0.000000e+00   \n",
              "100008                0.000000    1.561485e+05         8.001900e+04   \n",
              "100009                0.000000    2.667118e+05         7.695354e+04   \n",
              "100010                0.000000    4.950000e+05         1.740038e+05   \n",
              "100011                0.000000    1.088071e+05         0.000000e+00   \n",
              "100013                0.000000    5.180700e+05         0.000000e+00   \n",
              "100014                0.000000    3.412416e+05         1.516428e+05   \n",
              "100015                0.000000    1.023739e+05         0.000000e+00   \n",
              "100016                0.000000    6.785486e+04         1.274490e+04   \n",
              "100017                0.000000    1.432950e+05         0.000000e+00   \n",
              "100019                0.000000    3.600000e+05         1.227351e+05   \n",
              "100020                0.000000    4.987125e+04         3.077212e+04   \n",
              "100022                0.000000    5.287500e+05         2.052765e+05   \n",
              "100023                0.000000    1.265917e+05         1.370385e+04   \n",
              "100025                0.000000    2.452500e+06         1.886544e+06   \n",
              "100026                0.000000    1.875000e+06         1.738907e+06   \n",
              "100027                0.000000    2.084325e+05         1.255710e+05   \n",
              "100028                0.000000    1.267396e+05         1.863045e+04   \n",
              "100029                0.000000    1.857008e+06         1.227429e+06   \n",
              "100030                0.000000    1.072385e+05         7.527375e+04   \n",
              "100031                0.000000    5.672359e+05         5.625000e+05   \n",
              "100032                0.000000    3.177900e+05         0.000000e+00   \n",
              "100033                0.000000    6.750000e+05         0.000000e+00   \n",
              "100035                0.000000    3.938984e+05         4.108743e+05   \n",
              "100036                0.000000    9.495900e+04         8.339355e+03   \n",
              "...                        ...             ...                  ...   \n",
              "456220                0.400000    1.660680e+05         1.175350e+05   \n",
              "456221                0.000000    2.237598e+05         1.112940e+05   \n",
              "456223                0.000000    4.312619e+05         4.268700e+03   \n",
              "456224                0.000000    2.263932e+05         5.251190e+04   \n",
              "456225                0.000000    4.126880e+05         3.996357e+05   \n",
              "456226                0.000000    2.250000e+05         2.550600e+04   \n",
              "456227                0.000000    1.993106e+05         5.231700e+04   \n",
              "456229                1.000000    2.587500e+05                  NaN   \n",
              "456230                0.000000    1.163869e+05         2.532027e+04   \n",
              "456231                0.000000    4.733479e+05         1.407780e+05   \n",
              "456232                0.000000    4.005000e+05         2.586712e+05   \n",
              "456233                0.000000    2.826633e+05         2.239439e+05   \n",
              "456234                0.000000    1.393960e+05         2.452031e+03   \n",
              "456235                0.000000    4.930500e+05         3.866790e+05   \n",
              "456236                0.000000    6.389756e+05         4.420797e+05   \n",
              "456237                0.000000    9.814500e+04         0.000000e+00   \n",
              "456238                0.000000    1.849170e+05         1.042252e+05   \n",
              "456239                0.000000    5.693011e+05         3.809529e+05   \n",
              "456240                0.000000    6.619950e+04         3.987225e+04   \n",
              "456241                0.000000    2.430000e+05         0.000000e+00   \n",
              "456242                0.000000    1.980000e+05         1.860975e+05   \n",
              "456243                0.000000    2.553962e+05         3.118635e+05   \n",
              "456244                0.000000    3.264789e+05         4.704964e+04   \n",
              "456246                0.000000    1.275000e+05         0.000000e+00   \n",
              "456247                0.090909    4.714057e+05         3.655650e+05   \n",
              "456249                0.000000    2.841430e+05         1.630710e+04   \n",
              "456250                0.000000    1.028820e+06         7.440134e+05   \n",
              "456253                0.000000    9.900000e+05         4.489582e+05   \n",
              "456254                0.000000    4.500000e+04         0.000000e+00   \n",
              "456255                0.090909    3.456290e+05         1.918641e+05   \n",
              "\n",
              "            AMT_CREDIT_SUM_LIMIT  AMT_CREDIT_SUM_OVERDUE  DAYS_CREDIT_UPDATE  \\\n",
              "SK_ID_CURR                                                                     \n",
              "100001                  0.000000                   0.000          -93.142857   \n",
              "100002               7997.141250                   0.000         -499.875000   \n",
              "100003             202500.000000                   0.000         -816.000000   \n",
              "100004                  0.000000                   0.000         -532.000000   \n",
              "100005                  0.000000                   0.000          -54.333333   \n",
              "100007                  0.000000                   0.000         -783.000000   \n",
              "100008                  0.000000                   0.000         -611.000000   \n",
              "100009                  0.000000                   0.000         -851.611111   \n",
              "100010                  0.000000                   0.000         -578.000000   \n",
              "100011                  0.000000                   0.000        -1454.750000   \n",
              "100013                       NaN                   0.000         -775.500000   \n",
              "100014                  0.000000                   0.000         -615.875000   \n",
              "100015                  0.000000                   0.000         -551.250000   \n",
              "100016                  0.000000                   0.000         -405.857143   \n",
              "100017                  0.000000                   0.000        -1594.333333   \n",
              "100019             135000.000000                   0.000          -26.500000   \n",
              "100020                  0.000000                   0.000         -130.750000   \n",
              "100022                  0.000000                   0.000          -28.000000   \n",
              "100023                  0.000000                   0.000         -634.076923   \n",
              "100025                  0.000000                   0.000          -49.000000   \n",
              "100026                  0.000000                   0.000         -314.666667   \n",
              "100027                  0.000000                   0.000         -600.666667   \n",
              "100028              14484.394286                   0.000         -651.500000   \n",
              "100029                  0.000000                   0.000        -1041.750000   \n",
              "100030               4276.005000                   0.000         -411.166667   \n",
              "100031                       NaN                   0.000         -266.285714   \n",
              "100032                  0.000000                   0.000         -436.750000   \n",
              "100033                  0.000000                   0.000         -169.000000   \n",
              "100035                  0.000000                   0.000         -915.333333   \n",
              "100036                       NaN                   0.000         -519.000000   \n",
              "...                          ...                     ...                 ...   \n",
              "456220              57551.145000                   0.000         -458.800000   \n",
              "456221                  0.000000                   0.000         -282.200000   \n",
              "456223               7300.687500                   0.000         -308.400000   \n",
              "456224                  0.000000                   0.000         -907.823529   \n",
              "456225              11822.460000                   0.000         -174.333333   \n",
              "456226                  0.000000                   0.000          -15.500000   \n",
              "456227                  0.000000                   0.000         -964.250000   \n",
              "456229                       NaN                   0.000          -43.000000   \n",
              "456230                  0.000000                  17.625         -626.000000   \n",
              "456231                  0.000000                   0.000         -190.142857   \n",
              "456232                  0.000000                   0.000          -28.000000   \n",
              "456233                  0.000000                   0.000          -20.000000   \n",
              "456234                 64.297500                   0.000         -507.300000   \n",
              "456235                  0.000000                   0.000         -727.666667   \n",
              "456236                  0.000000                   0.000         -946.153846   \n",
              "456237                  0.000000                   0.000        -1090.000000   \n",
              "456238                  0.000000                   0.000        -1579.333333   \n",
              "456239                  0.000000                   0.000         -770.000000   \n",
              "456240              50127.750000                   0.000        -1238.500000   \n",
              "456241                  0.000000                   0.000        -1096.600000   \n",
              "456242                  0.000000                   0.000           -5.000000   \n",
              "456243                  0.000000                   0.000         -338.285714   \n",
              "456244                 44.553750                   0.000        -1209.826087   \n",
              "456246                  0.000000                   0.000         -373.333333   \n",
              "456247                  0.000000                   0.000         -768.818182   \n",
              "456249                  0.000000                   0.000        -1064.538462   \n",
              "456250              19422.795000                   0.000          -60.333333   \n",
              "456253                  0.000000                   0.000         -253.250000   \n",
              "456254                       NaN                   0.000         -401.000000   \n",
              "456255                  0.000000                   0.000         -531.090909   \n",
              "\n",
              "              AMT_ANNUITY  \n",
              "SK_ID_CURR                 \n",
              "100001        3545.357143  \n",
              "100002           0.000000  \n",
              "100003                NaN  \n",
              "100004                NaN  \n",
              "100005        1420.500000  \n",
              "100007                NaN  \n",
              "100008                NaN  \n",
              "100009                NaN  \n",
              "100010                NaN  \n",
              "100011                NaN  \n",
              "100013           0.000000  \n",
              "100014                NaN  \n",
              "100015                NaN  \n",
              "100016                NaN  \n",
              "100017                NaN  \n",
              "100019       27000.000000  \n",
              "100020                NaN  \n",
              "100022                NaN  \n",
              "100023                NaN  \n",
              "100025                NaN  \n",
              "100026                NaN  \n",
              "100027                NaN  \n",
              "100028        3012.010714  \n",
              "100029                NaN  \n",
              "100030                NaN  \n",
              "100031                NaN  \n",
              "100032       17437.500000  \n",
              "100033                NaN  \n",
              "100035                NaN  \n",
              "100036                NaN  \n",
              "...                   ...  \n",
              "456220                NaN  \n",
              "456221        5960.700000  \n",
              "456223        1263.375000  \n",
              "456224        4608.450000  \n",
              "456225                NaN  \n",
              "456226                NaN  \n",
              "456227                NaN  \n",
              "456229                NaN  \n",
              "456230       16089.942857  \n",
              "456231       14832.000000  \n",
              "456232                NaN  \n",
              "456233        7537.500000  \n",
              "456234       13125.015000  \n",
              "456235                NaN  \n",
              "456236                NaN  \n",
              "456237                NaN  \n",
              "456238        6600.000000  \n",
              "456239                NaN  \n",
              "456240                NaN  \n",
              "456241                NaN  \n",
              "456242       11205.000000  \n",
              "456243                NaN  \n",
              "456244       10298.250000  \n",
              "456246                NaN  \n",
              "456247        6227.357143  \n",
              "456249                NaN  \n",
              "456250      154567.965000  \n",
              "456253       58369.500000  \n",
              "456254           0.000000  \n",
              "456255        1081.500000  \n",
              "\n",
              "[305811 rows x 13 columns]>"
            ]
          },
          "metadata": {
            "tags": []
          },
          "execution_count": 29
        }
      ]
    },
    {
      "metadata": {
        "id": "CQoEU4oRhFfI",
        "colab_type": "code",
        "colab": {
          "base_uri": "https://localhost:8080/",
          "height": 34
        },
        "outputId": "bf7ebd87-5978-4c22-8301-9ad80a34dd9b"
      },
      "cell_type": "code",
      "source": [
        "prev_df.shape"
      ],
      "execution_count": 77,
      "outputs": [
        {
          "output_type": "execute_result",
          "data": {
            "text/plain": [
              "(1670214, 37)"
            ]
          },
          "metadata": {
            "tags": []
          },
          "execution_count": 77
        }
      ]
    },
    {
      "metadata": {
        "colab_type": "code",
        "id": "GZ-wOrfdVQ-X",
        "colab": {
          "base_uri": "https://localhost:8080/",
          "height": 34
        },
        "outputId": "756688a7-76ec-4793-940d-97550f33d6f5"
      },
      "cell_type": "code",
      "source": [
        "print (train_df.shape)"
      ],
      "execution_count": 22,
      "outputs": [
        {
          "output_type": "stream",
          "text": [
            "(307511, 122)\n"
          ],
          "name": "stdout"
        }
      ]
    },
    {
      "metadata": {
        "colab_type": "code",
        "id": "ybv03cjqQNka",
        "colab": {
          "base_uri": "https://localhost:8080/",
          "height": 68
        },
        "outputId": "cfcedb33-66e3-4428-f882-f92ce37fba63"
      },
      "cell_type": "code",
      "source": [
        "train_df.NAME_EDUCATION_TYPE.unique()"
      ],
      "execution_count": 8,
      "outputs": [
        {
          "output_type": "execute_result",
          "data": {
            "text/plain": [
              "array(['Secondary / secondary special', 'Higher education',\n",
              "       'Incomplete higher', 'Lower secondary', 'Academic degree'],\n",
              "      dtype=object)"
            ]
          },
          "metadata": {
            "tags": []
          },
          "execution_count": 8
        }
      ]
    },
    {
      "metadata": {
        "colab_type": "code",
        "id": "EU7crNrzVyoN",
        "colab": {}
      },
      "cell_type": "code",
      "source": [
        "# Find out the correlation between the target and all the attributestrain_df.corr()\n",
        "# EXT_SOURCE_1 = Normalized score from external data source\n",
        "# target_corr = train_df.corr()[\"TARGET\"]\n",
        "# target_corr.abs().nlargest(25)"
      ],
      "execution_count": 0,
      "outputs": []
    },
    {
      "metadata": {
        "colab_type": "code",
        "id": "VXnaXY81Te0I",
        "colab": {}
      },
      "cell_type": "code",
      "source": [
        "# import matplotlib.pyplot as plt\n",
        "# import numpy as np\n",
        "\n",
        "# Target = train_df['TARGET'].value_counts()\n",
        "# TarFreq = [Target[0]/307511,Target[1]/307511]\n",
        "\n",
        "# Objects = ('0','1')\n",
        "# y_pos = np.arange(len(Objects))\n",
        "\n",
        "# plt.bar(y_pos,TarFreq, alpha = 0.5)\n",
        "# plt.xticks(y_pos, Objects)\n",
        "\n",
        "# plt.xlabel('Target')\n",
        "# plt.ylabel('Frequency')"
      ],
      "execution_count": 0,
      "outputs": []
    },
    {
      "metadata": {
        "colab_type": "code",
        "id": "U6RuJQfP-sug",
        "colab": {}
      },
      "cell_type": "code",
      "source": [
        "# import missingno as msno\n",
        "# msno.matrix(train_df.sample(500), inline=True, sparkline=True, figsize=(20,10), sort=None) #sample of data for all columns we see a group of columns where the missing values appear correlated."
      ],
      "execution_count": 0,
      "outputs": []
    },
    {
      "metadata": {
        "colab_type": "code",
        "id": "m2z3TNtd-0eJ",
        "colab": {}
      },
      "cell_type": "code",
      "source": [
        "# msno.dendrogram(train_df, inline=True, fontsize=12, figsize=(20,30))"
      ],
      "execution_count": 0,
      "outputs": []
    },
    {
      "metadata": {
        "colab_type": "code",
        "id": "z3nVYrUBCppW",
        "colab": {}
      },
      "cell_type": "code",
      "source": [
        "# train_df['incomplete'] = 1\n",
        "# train_df.loc[train_df.isnull().sum(axis=1) < 35, 'incomplete'] = 0\n",
        "\n",
        "# mean_c = np.mean(train_df.loc[train_df['incomplete'] == 0, 'TARGET'].values)\n",
        "# mean_i = np.mean(train_df.loc[train_df['incomplete'] == 1, 'TARGET'].values)\n",
        "# print('default ratio for more complete: {:.2} \\ndefault ratio for less complete: {:.2}'.format(mean_c, mean_i))\n",
        "\n"
      ],
      "execution_count": 0,
      "outputs": []
    },
    {
      "metadata": {
        "colab_type": "code",
        "id": "M_sAD-8FdPRi",
        "colab": {
          "base_uri": "https://localhost:8080/",
          "height": 459
        },
        "outputId": "22bfef9e-64d7-45f8-c9bc-09c7da64e9c4"
      },
      "cell_type": "code",
      "source": [
        "import pandas as pd\n",
        "import numpy as np\n",
        "import matplotlib.pyplot as plt\n",
        "\n",
        "pd.set_option('max_columns', 50)\n",
        "%matplotlib inline\n",
        "\n",
        "\n",
        " \n",
        "\n",
        "duplicated=train_df.duplicated()\n",
        "duplicated\n",
        "#no duplicated in the train and test dataset\n",
        "\n",
        "train_df.shape\n",
        "\n",
        "\n",
        "na_sum = train_df.isnull().sum()\n",
        "#count missing values on each column\n",
        "\n",
        "na_sum.nlargest(25)\n",
        "#show top 25 columns with most missing values\n"
      ],
      "execution_count": 30,
      "outputs": [
        {
          "output_type": "execute_result",
          "data": {
            "text/plain": [
              "COMMONAREA_AVG              214865\n",
              "COMMONAREA_MODE             214865\n",
              "COMMONAREA_MEDI             214865\n",
              "NONLIVINGAPARTMENTS_AVG     213514\n",
              "NONLIVINGAPARTMENTS_MODE    213514\n",
              "NONLIVINGAPARTMENTS_MEDI    213514\n",
              "FONDKAPREMONT_MODE          210295\n",
              "LIVINGAPARTMENTS_AVG        210199\n",
              "LIVINGAPARTMENTS_MODE       210199\n",
              "LIVINGAPARTMENTS_MEDI       210199\n",
              "FLOORSMIN_AVG               208642\n",
              "FLOORSMIN_MODE              208642\n",
              "FLOORSMIN_MEDI              208642\n",
              "YEARS_BUILD_AVG             204488\n",
              "YEARS_BUILD_MODE            204488\n",
              "YEARS_BUILD_MEDI            204488\n",
              "OWN_CAR_AGE                 202929\n",
              "LANDAREA_AVG                182590\n",
              "LANDAREA_MODE               182590\n",
              "LANDAREA_MEDI               182590\n",
              "BASEMENTAREA_AVG            179943\n",
              "BASEMENTAREA_MODE           179943\n",
              "BASEMENTAREA_MEDI           179943\n",
              "EXT_SOURCE_1                173378\n",
              "NONLIVINGAREA_AVG           169682\n",
              "dtype: int64"
            ]
          },
          "metadata": {
            "tags": []
          },
          "execution_count": 30
        }
      ]
    },
    {
      "metadata": {
        "colab_type": "code",
        "id": "l_brLIOzFgiJ",
        "colab": {
          "base_uri": "https://localhost:8080/",
          "height": 198
        },
        "outputId": "a92b968d-c206-4918-88cd-8c962bfaca62"
      },
      "cell_type": "code",
      "source": [
        "na_sum = na_sum[na_sum != 0].sort_values(ascending = False).reset_index()\n",
        "na_sum.columns = [\"variable\", \"n_missing\"]\n",
        "na_sum.head()"
      ],
      "execution_count": 32,
      "outputs": [
        {
          "output_type": "error",
          "ename": "TypeError",
          "evalue": "ignored",
          "traceback": [
            "\u001b[0;31m---------------------------------------------------------------------------\u001b[0m",
            "\u001b[0;31mTypeError\u001b[0m                                 Traceback (most recent call last)",
            "\u001b[0;32m<ipython-input-32-dd5b982814eb>\u001b[0m in \u001b[0;36m<module>\u001b[0;34m()\u001b[0m\n\u001b[0;32m----> 1\u001b[0;31m \u001b[0mna_sum\u001b[0m \u001b[0;34m=\u001b[0m \u001b[0mna_sum\u001b[0m\u001b[0;34m[\u001b[0m\u001b[0mna_sum\u001b[0m \u001b[0;34m!=\u001b[0m \u001b[0;36m0\u001b[0m\u001b[0;34m]\u001b[0m\u001b[0;34m.\u001b[0m\u001b[0msort_values\u001b[0m\u001b[0;34m(\u001b[0m\u001b[0mascending\u001b[0m \u001b[0;34m=\u001b[0m \u001b[0;32mFalse\u001b[0m\u001b[0;34m)\u001b[0m\u001b[0;34m.\u001b[0m\u001b[0mreset_index\u001b[0m\u001b[0;34m(\u001b[0m\u001b[0;34m)\u001b[0m\u001b[0;34m\u001b[0m\u001b[0;34m\u001b[0m\u001b[0m\n\u001b[0m\u001b[1;32m      2\u001b[0m \u001b[0mna_sum\u001b[0m\u001b[0;34m.\u001b[0m\u001b[0mcolumns\u001b[0m \u001b[0;34m=\u001b[0m \u001b[0;34m[\u001b[0m\u001b[0;34m\"variable\"\u001b[0m\u001b[0;34m,\u001b[0m \u001b[0;34m\"n_missing\"\u001b[0m\u001b[0;34m]\u001b[0m\u001b[0;34m\u001b[0m\u001b[0;34m\u001b[0m\u001b[0m\n\u001b[1;32m      3\u001b[0m \u001b[0mna_sum\u001b[0m\u001b[0;34m.\u001b[0m\u001b[0mhead\u001b[0m\u001b[0;34m(\u001b[0m\u001b[0;34m)\u001b[0m\u001b[0;34m\u001b[0m\u001b[0;34m\u001b[0m\u001b[0m\n",
            "\u001b[0;31mTypeError\u001b[0m: sort_values() missing 1 required positional argument: 'by'"
          ]
        }
      ]
    },
    {
      "metadata": {
        "colab_type": "code",
        "id": "ebAlP-WrLVLp",
        "colab": {}
      },
      "cell_type": "code",
      "source": [
        "#missing values actually represent the lack of characteristic. MEDI/MODE/AVG are mathematical fuctions that \n",
        "for variable in na_sum[\"variable\"]:\n",
        "    if (variable.endswith(\"MEDI\")|variable.endswith(\"MODE\")|variable.endswith(\"AVG\")): #There are several variables with \"MODE\", \"AVG\" or \"MEDI\" on it. In most cases, the number of missing values is exactly for all statistics belonging to a given feature. For instance, all variables with name \"COMMONAREA\" share the same number of null values. I think it is fairly safe to assume that those missing values actually represent the lack of that characteristic, so all clients with COMMONAREA features equal to zero probably don't live in a place that has a common area. Therefore I'll assign each and everyone of them the value of zero.\n",
        "\n",
        "        train_df.loc[:,variable] = train_df.loc[:,variable].fillna(0)"
      ],
      "execution_count": 0,
      "outputs": []
    },
    {
      "metadata": {
        "colab_type": "code",
        "id": "ElbvY8a0gF2v",
        "colab": {}
      },
      "cell_type": "code",
      "source": [
        "for variable in na_sum[\"variable\"]:\n",
        "    if (variable.startswith(\"AMT_REQ_CREDIT_BUREAU\")):\n",
        "        train_df.loc[:,variable] = train_df.loc[:,variable].fillna(0)\n"
      ],
      "execution_count": 0,
      "outputs": []
    },
    {
      "metadata": {
        "colab_type": "code",
        "id": "-e6ACo32gR9V",
        "colab": {}
      },
      "cell_type": "code",
      "source": [
        "for variable in na_sum[\"variable\"]:\n",
        "    if (variable.endswith(\"SOCIAL_CIRCLE\")):\n",
        "        train_df.loc[:,variable] = train_df.loc[:,variable].fillna(0)"
      ],
      "execution_count": 0,
      "outputs": []
    },
    {
      "metadata": {
        "colab_type": "code",
        "id": "aDN17RofitRB",
        "colab": {
          "base_uri": "https://localhost:8080/",
          "height": 359
        },
        "outputId": "04850673-2fd8-46e2-ef1b-2444d5f2e61f"
      },
      "cell_type": "code",
      "source": [
        "#checking for remaining nulls:\n",
        "na_sum = train_df.isnull().sum()\n",
        "na_sum = na_sum[na_sum != 0].sort_values(ascending = False).reset_index() #only show rows with null values\n",
        "na_sum.columns = [\"variable\", \"n_missing\"]\n",
        "#percentage of missing values on a given column\n",
        "na_sum[\"pct_missing\"] = na_sum.n_missing/len(train_df)\n",
        "na_sum"
      ],
      "execution_count": 36,
      "outputs": [
        {
          "output_type": "execute_result",
          "data": {
            "text/html": [
              "<div>\n",
              "<style scoped>\n",
              "    .dataframe tbody tr th:only-of-type {\n",
              "        vertical-align: middle;\n",
              "    }\n",
              "\n",
              "    .dataframe tbody tr th {\n",
              "        vertical-align: top;\n",
              "    }\n",
              "\n",
              "    .dataframe thead th {\n",
              "        text-align: right;\n",
              "    }\n",
              "</style>\n",
              "<table border=\"1\" class=\"dataframe\">\n",
              "  <thead>\n",
              "    <tr style=\"text-align: right;\">\n",
              "      <th></th>\n",
              "      <th>variable</th>\n",
              "      <th>n_missing</th>\n",
              "      <th>pct_missing</th>\n",
              "    </tr>\n",
              "  </thead>\n",
              "  <tbody>\n",
              "    <tr>\n",
              "      <th>0</th>\n",
              "      <td>OWN_CAR_AGE</td>\n",
              "      <td>202929</td>\n",
              "      <td>0.659908</td>\n",
              "    </tr>\n",
              "    <tr>\n",
              "      <th>1</th>\n",
              "      <td>EXT_SOURCE_1</td>\n",
              "      <td>173378</td>\n",
              "      <td>0.563811</td>\n",
              "    </tr>\n",
              "    <tr>\n",
              "      <th>2</th>\n",
              "      <td>OCCUPATION_TYPE</td>\n",
              "      <td>96391</td>\n",
              "      <td>0.313455</td>\n",
              "    </tr>\n",
              "    <tr>\n",
              "      <th>3</th>\n",
              "      <td>EXT_SOURCE_3</td>\n",
              "      <td>60965</td>\n",
              "      <td>0.198253</td>\n",
              "    </tr>\n",
              "    <tr>\n",
              "      <th>4</th>\n",
              "      <td>NAME_TYPE_SUITE</td>\n",
              "      <td>1292</td>\n",
              "      <td>0.004201</td>\n",
              "    </tr>\n",
              "    <tr>\n",
              "      <th>5</th>\n",
              "      <td>EXT_SOURCE_2</td>\n",
              "      <td>660</td>\n",
              "      <td>0.002146</td>\n",
              "    </tr>\n",
              "    <tr>\n",
              "      <th>6</th>\n",
              "      <td>AMT_GOODS_PRICE</td>\n",
              "      <td>278</td>\n",
              "      <td>0.000904</td>\n",
              "    </tr>\n",
              "    <tr>\n",
              "      <th>7</th>\n",
              "      <td>AMT_ANNUITY</td>\n",
              "      <td>12</td>\n",
              "      <td>0.000039</td>\n",
              "    </tr>\n",
              "    <tr>\n",
              "      <th>8</th>\n",
              "      <td>CNT_FAM_MEMBERS</td>\n",
              "      <td>2</td>\n",
              "      <td>0.000007</td>\n",
              "    </tr>\n",
              "    <tr>\n",
              "      <th>9</th>\n",
              "      <td>DAYS_LAST_PHONE_CHANGE</td>\n",
              "      <td>1</td>\n",
              "      <td>0.000003</td>\n",
              "    </tr>\n",
              "  </tbody>\n",
              "</table>\n",
              "</div>"
            ],
            "text/plain": [
              "                 variable  n_missing  pct_missing\n",
              "0             OWN_CAR_AGE     202929     0.659908\n",
              "1            EXT_SOURCE_1     173378     0.563811\n",
              "2         OCCUPATION_TYPE      96391     0.313455\n",
              "3            EXT_SOURCE_3      60965     0.198253\n",
              "4         NAME_TYPE_SUITE       1292     0.004201\n",
              "5            EXT_SOURCE_2        660     0.002146\n",
              "6         AMT_GOODS_PRICE        278     0.000904\n",
              "7             AMT_ANNUITY         12     0.000039\n",
              "8         CNT_FAM_MEMBERS          2     0.000007\n",
              "9  DAYS_LAST_PHONE_CHANGE          1     0.000003"
            ]
          },
          "metadata": {
            "tags": []
          },
          "execution_count": 36
        }
      ]
    },
    {
      "metadata": {
        "colab_type": "code",
        "id": "4fPwZiLElHu_",
        "colab": {
          "base_uri": "https://localhost:8080/",
          "height": 333
        },
        "outputId": "a124afb7-14e9-4203-b5ea-854ba5d76579"
      },
      "cell_type": "code",
      "source": [
        "#x&y are to be added\n",
        "import seaborn as sns\n",
        "sns.kdeplot(train_df.OWN_CAR_AGE);"
      ],
      "execution_count": 37,
      "outputs": [
        {
          "output_type": "stream",
          "text": [
            "/usr/local/lib/python3.6/dist-packages/statsmodels/nonparametric/kde.py:454: RuntimeWarning: invalid value encountered in greater\n",
            "  X = X[np.logical_and(X>clip[0], X<clip[1])] # won't work for two columns.\n",
            "/usr/local/lib/python3.6/dist-packages/statsmodels/nonparametric/kde.py:454: RuntimeWarning: invalid value encountered in less\n",
            "  X = X[np.logical_and(X>clip[0], X<clip[1])] # won't work for two columns.\n"
          ],
          "name": "stderr"
        },
        {
          "output_type": "display_data",
          "data": {
            "image/png": "[encoded data removed]",
            "text/plain": [
              "<Figure size 432x288 with 1 Axes>"
            ]
          },
          "metadata": {
            "tags": []
          }
        }
      ]
    },
    {
      "metadata": {
        "colab_type": "code",
        "id": "tSzhHXHMmjlx",
        "colab": {}
      },
      "cell_type": "code",
      "source": [
        "#own car\n",
        "\n",
        "train_df[\"OWN_CAR\"] = 0\n",
        "train_df.loc[train_df.OWN_CAR_AGE >= 0, \"OWN_CAR\"] = 1\n",
        "train_df.loc[:,(\"OWN_CAR\", \"OWN_CAR_AGE\")].head()\n",
        "\n",
        "#dropping car age column\n",
        "train_df = train_df.drop(columns=[\"OWN_CAR_AGE\"])\n"
      ],
      "execution_count": 0,
      "outputs": []
    },
    {
      "metadata": {
        "colab_type": "code",
        "id": "HKHp4QS0oFee",
        "colab": {
          "base_uri": "https://localhost:8080/",
          "height": 333
        },
        "outputId": "64341584-318a-495e-dcbc-3d21bdef8348"
      },
      "cell_type": "code",
      "source": [
        "#EXT SCORE variables\n",
        "#x&y are to be added\n",
        "\n",
        "sns.kdeplot(train_df.EXT_SOURCE_1);\n",
        "sns.kdeplot(train_df.EXT_SOURCE_2);\n",
        "sns.kdeplot(train_df.EXT_SOURCE_3);\n",
        "\n"
      ],
      "execution_count": 39,
      "outputs": [
        {
          "output_type": "stream",
          "text": [
            "/usr/local/lib/python3.6/dist-packages/statsmodels/nonparametric/kde.py:454: RuntimeWarning: invalid value encountered in greater\n",
            "  X = X[np.logical_and(X>clip[0], X<clip[1])] # won't work for two columns.\n",
            "/usr/local/lib/python3.6/dist-packages/statsmodels/nonparametric/kde.py:454: RuntimeWarning: invalid value encountered in less\n",
            "  X = X[np.logical_and(X>clip[0], X<clip[1])] # won't work for two columns.\n"
          ],
          "name": "stderr"
        },
        {
          "output_type": "display_data",
          "data": {
            "image/png": "[encoded data removed]",
            "text/plain": [
              "<Figure size 432x288 with 1 Axes>"
            ]
          },
          "metadata": {
            "tags": []
          }
        }
      ]
    },
    {
      "metadata": {
        "colab_type": "code",
        "id": "ff2_ADK_pIeK",
        "colab": {}
      },
      "cell_type": "code",
      "source": [
        "train_df = train_df.drop(columns= [\"EXT_SOURCE_1\"])\n",
        "train_df = train_df.drop(columns= [\"EXT_SOURCE_3\"])\n",
        "\n",
        "train_df.loc[:,\"EXT_SOURCE_2\"] = train_df.loc[:,\"EXT_SOURCE_2\"].fillna(train_df.EXT_SOURCE_2.median())\n"
      ],
      "execution_count": 0,
      "outputs": []
    },
    {
      "metadata": {
        "colab_type": "code",
        "id": "w2G3JpMrrzxW",
        "colab": {
          "base_uri": "https://localhost:8080/",
          "height": 265
        },
        "outputId": "3f795648-fb6d-4a2b-e18f-6151a3d9303f"
      },
      "cell_type": "code",
      "source": [
        "sns.kdeplot(train_df.EXT_SOURCE_2);"
      ],
      "execution_count": 41,
      "outputs": [
        {
          "output_type": "display_data",
          "data": {
            "image/png": "[encoded data removed]",
            "text/plain": [
              "<Figure size 432x288 with 1 Axes>"
            ]
          },
          "metadata": {
            "tags": []
          }
        }
      ]
    },
    {
      "metadata": {
        "colab_type": "code",
        "id": "kDW2cgjRrYvu",
        "colab": {
          "base_uri": "https://localhost:8080/",
          "height": 235
        },
        "outputId": "cd18f28a-dbc7-46d0-b4b5-f2184e77feae"
      },
      "cell_type": "code",
      "source": [
        "na_sum = train_df.isnull().sum()\n",
        "na_sum = na_sum[na_sum != 0].sort_values(ascending = False).reset_index() #only show rows with null values\n",
        "na_sum.columns = [\"variable\", \"n_missing\"]\n",
        "na_sum"
      ],
      "execution_count": 42,
      "outputs": [
        {
          "output_type": "execute_result",
          "data": {
            "text/html": [
              "<div>\n",
              "<style scoped>\n",
              "    .dataframe tbody tr th:only-of-type {\n",
              "        vertical-align: middle;\n",
              "    }\n",
              "\n",
              "    .dataframe tbody tr th {\n",
              "        vertical-align: top;\n",
              "    }\n",
              "\n",
              "    .dataframe thead th {\n",
              "        text-align: right;\n",
              "    }\n",
              "</style>\n",
              "<table border=\"1\" class=\"dataframe\">\n",
              "  <thead>\n",
              "    <tr style=\"text-align: right;\">\n",
              "      <th></th>\n",
              "      <th>variable</th>\n",
              "      <th>n_missing</th>\n",
              "    </tr>\n",
              "  </thead>\n",
              "  <tbody>\n",
              "    <tr>\n",
              "      <th>0</th>\n",
              "      <td>OCCUPATION_TYPE</td>\n",
              "      <td>96391</td>\n",
              "    </tr>\n",
              "    <tr>\n",
              "      <th>1</th>\n",
              "      <td>NAME_TYPE_SUITE</td>\n",
              "      <td>1292</td>\n",
              "    </tr>\n",
              "    <tr>\n",
              "      <th>2</th>\n",
              "      <td>AMT_GOODS_PRICE</td>\n",
              "      <td>278</td>\n",
              "    </tr>\n",
              "    <tr>\n",
              "      <th>3</th>\n",
              "      <td>AMT_ANNUITY</td>\n",
              "      <td>12</td>\n",
              "    </tr>\n",
              "    <tr>\n",
              "      <th>4</th>\n",
              "      <td>CNT_FAM_MEMBERS</td>\n",
              "      <td>2</td>\n",
              "    </tr>\n",
              "    <tr>\n",
              "      <th>5</th>\n",
              "      <td>DAYS_LAST_PHONE_CHANGE</td>\n",
              "      <td>1</td>\n",
              "    </tr>\n",
              "  </tbody>\n",
              "</table>\n",
              "</div>"
            ],
            "text/plain": [
              "                 variable  n_missing\n",
              "0         OCCUPATION_TYPE      96391\n",
              "1         NAME_TYPE_SUITE       1292\n",
              "2         AMT_GOODS_PRICE        278\n",
              "3             AMT_ANNUITY         12\n",
              "4         CNT_FAM_MEMBERS          2\n",
              "5  DAYS_LAST_PHONE_CHANGE          1"
            ]
          },
          "metadata": {
            "tags": []
          },
          "execution_count": 42
        }
      ]
    },
    {
      "metadata": {
        "colab_type": "code",
        "id": "EmgO0g3prdLm",
        "colab": {
          "base_uri": "https://localhost:8080/",
          "height": 405
        },
        "outputId": "b20759f9-c26e-4faa-d651-b461b88cafb3"
      },
      "cell_type": "code",
      "source": [
        "#how to read this heatmap? \n",
        "train_df.NAME_EDUCATION_TYPE.unique()\n",
        "sns.heatmap(pd.crosstab(train_df.OCCUPATION_TYPE, train_df.NAME_EDUCATION_TYPE), cmap=\"Blues\");\n"
      ],
      "execution_count": 43,
      "outputs": [
        {
          "output_type": "display_data",
          "data": {
            "image/png": "[encoded data removed]",
            "text/plain": [
              "<Figure size 432x288 with 2 Axes>"
            ]
          },
          "metadata": {
            "tags": []
          }
        }
      ]
    },
    {
      "metadata": {
        "colab_type": "code",
        "id": "7FzIOTlMNFRd",
        "colab": {
          "base_uri": "https://localhost:8080/",
          "height": 1071
        },
        "outputId": "8a399127-6e77-47a3-8053-ae85a47c162b"
      },
      "cell_type": "code",
      "source": [
        "train_df [\"OCCUPATION_TYPE\"].isna"
      ],
      "execution_count": 44,
      "outputs": [
        {
          "output_type": "execute_result",
          "data": {
            "text/plain": [
              "<bound method Series.isna of 0                      Laborers\n",
              "1                    Core staff\n",
              "2                      Laborers\n",
              "3                      Laborers\n",
              "4                    Core staff\n",
              "5                      Laborers\n",
              "6                   Accountants\n",
              "7                      Managers\n",
              "8                           NaN\n",
              "9                      Laborers\n",
              "10                   Core staff\n",
              "11                          NaN\n",
              "12                     Laborers\n",
              "13                      Drivers\n",
              "14                     Laborers\n",
              "15                     Laborers\n",
              "16                      Drivers\n",
              "17                     Laborers\n",
              "18                     Laborers\n",
              "19                   Core staff\n",
              "20                     Laborers\n",
              "21                  Sales staff\n",
              "22                  Sales staff\n",
              "23                          NaN\n",
              "24                      Drivers\n",
              "25               Cleaning staff\n",
              "26                Cooking staff\n",
              "27                     Laborers\n",
              "28                          NaN\n",
              "29                     Laborers\n",
              "                  ...          \n",
              "307481                 Managers\n",
              "307482                 Managers\n",
              "307483                      NaN\n",
              "307484                 Managers\n",
              "307485              Sales staff\n",
              "307486                      NaN\n",
              "307487                      NaN\n",
              "307488               Core staff\n",
              "307489              Sales staff\n",
              "307490                 Laborers\n",
              "307491                  Drivers\n",
              "307492              Sales staff\n",
              "307493           Security staff\n",
              "307494                  Drivers\n",
              "307495    High skill tech staff\n",
              "307496            Cooking staff\n",
              "307497              Sales staff\n",
              "307498                 Laborers\n",
              "307499           Medicine staff\n",
              "307500                      NaN\n",
              "307501       Low-skill Laborers\n",
              "307502                 Laborers\n",
              "307503               Core staff\n",
              "307504              Sales staff\n",
              "307505                      NaN\n",
              "307506              Sales staff\n",
              "307507                      NaN\n",
              "307508                 Managers\n",
              "307509                 Laborers\n",
              "307510                 Laborers\n",
              "Name: OCCUPATION_TYPE, Length: 307511, dtype: object>"
            ]
          },
          "metadata": {
            "tags": []
          },
          "execution_count": 44
        }
      ]
    },
    {
      "metadata": {
        "colab_type": "code",
        "id": "AXynYs94tdvq",
        "colab": {}
      },
      "cell_type": "code",
      "source": [
        "#discrete \n",
        "for education in train_df.NAME_EDUCATION_TYPE.unique(): \n",
        "    mode_to_impute = train_df[train_df.NAME_EDUCATION_TYPE == education].OCCUPATION_TYPE.mode()[0]\n",
        "    train_df.loc[train_df.NAME_EDUCATION_TYPE == education, \"OCCUPATION_TYPE\"] = train_df.loc[train_df.NAME_EDUCATION_TYPE == education, \"OCCUPATION_TYPE\"].fillna(mode_to_impute)"
      ],
      "execution_count": 0,
      "outputs": []
    },
    {
      "metadata": {
        "colab_type": "code",
        "id": "Naao66ieHEwl",
        "colab": {}
      },
      "cell_type": "code",
      "source": [
        "# mode_to_impute = train_df.OCCUPATION_TYPE.mode()\n",
        "# train_df.fillna(mode_to_impute)\n",
        "# train_df[\"OCCUPATION_TYPE\"]\n",
        "# train_df[\"OCCUPATION_TYPE\"].isnull"
      ],
      "execution_count": 0,
      "outputs": []
    },
    {
      "metadata": {
        "colab_type": "code",
        "id": "WO9-MvGYLEkb",
        "colab": {
          "base_uri": "https://localhost:8080/",
          "height": 204
        },
        "outputId": "4f5913c8-381e-4e6a-a00e-f4ea93324013"
      },
      "cell_type": "code",
      "source": [
        "na_sum = train_df.isnull().sum()\n",
        "na_sum = na_sum[na_sum != 0].sort_values(ascending = False).reset_index() #only show rows with null values\n",
        "na_sum.columns = [\"variable\", \"n_missing\"]\n",
        "na_sum"
      ],
      "execution_count": 47,
      "outputs": [
        {
          "output_type": "execute_result",
          "data": {
            "text/html": [
              "<div>\n",
              "<style scoped>\n",
              "    .dataframe tbody tr th:only-of-type {\n",
              "        vertical-align: middle;\n",
              "    }\n",
              "\n",
              "    .dataframe tbody tr th {\n",
              "        vertical-align: top;\n",
              "    }\n",
              "\n",
              "    .dataframe thead th {\n",
              "        text-align: right;\n",
              "    }\n",
              "</style>\n",
              "<table border=\"1\" class=\"dataframe\">\n",
              "  <thead>\n",
              "    <tr style=\"text-align: right;\">\n",
              "      <th></th>\n",
              "      <th>variable</th>\n",
              "      <th>n_missing</th>\n",
              "    </tr>\n",
              "  </thead>\n",
              "  <tbody>\n",
              "    <tr>\n",
              "      <th>0</th>\n",
              "      <td>NAME_TYPE_SUITE</td>\n",
              "      <td>1292</td>\n",
              "    </tr>\n",
              "    <tr>\n",
              "      <th>1</th>\n",
              "      <td>AMT_GOODS_PRICE</td>\n",
              "      <td>278</td>\n",
              "    </tr>\n",
              "    <tr>\n",
              "      <th>2</th>\n",
              "      <td>AMT_ANNUITY</td>\n",
              "      <td>12</td>\n",
              "    </tr>\n",
              "    <tr>\n",
              "      <th>3</th>\n",
              "      <td>CNT_FAM_MEMBERS</td>\n",
              "      <td>2</td>\n",
              "    </tr>\n",
              "    <tr>\n",
              "      <th>4</th>\n",
              "      <td>DAYS_LAST_PHONE_CHANGE</td>\n",
              "      <td>1</td>\n",
              "    </tr>\n",
              "  </tbody>\n",
              "</table>\n",
              "</div>"
            ],
            "text/plain": [
              "                 variable  n_missing\n",
              "0         NAME_TYPE_SUITE       1292\n",
              "1         AMT_GOODS_PRICE        278\n",
              "2             AMT_ANNUITY         12\n",
              "3         CNT_FAM_MEMBERS          2\n",
              "4  DAYS_LAST_PHONE_CHANGE          1"
            ]
          },
          "metadata": {
            "tags": []
          },
          "execution_count": 47
        }
      ]
    },
    {
      "metadata": {
        "colab_type": "code",
        "id": "VEubQM3iIGZr",
        "colab": {
          "base_uri": "https://localhost:8080/",
          "height": 330
        },
        "outputId": "200b6742-0d47-44f6-dddc-d4fa203671e7"
      },
      "cell_type": "code",
      "source": [
        "train_df.NAME_TYPE_SUITE = train_df.NAME_TYPE_SUITE.astype(\"category\")\n",
        "sns.countplot(y = train_df.NAME_TYPE_SUITE)"
      ],
      "execution_count": 48,
      "outputs": [
        {
          "output_type": "stream",
          "text": [
            "/usr/local/lib/python3.6/dist-packages/seaborn/categorical.py:1428: FutureWarning: remove_na is deprecated and is a private function. Do not use.\n",
            "  stat_data = remove_na(group_data)\n"
          ],
          "name": "stderr"
        },
        {
          "output_type": "execute_result",
          "data": {
            "text/plain": [
              "<matplotlib.axes._subplots.AxesSubplot at 0x7f8b7bc90780>"
            ]
          },
          "metadata": {
            "tags": []
          },
          "execution_count": 48
        },
        {
          "output_type": "display_data",
          "data": {
            "image/png": "[encoded data removed]",
            "text/plain": [
              "<Figure size 432x288 with 1 Axes>"
            ]
          },
          "metadata": {
            "tags": []
          }
        }
      ]
    },
    {
      "metadata": {
        "colab_type": "code",
        "id": "-BMU5rgJKt2S",
        "colab": {
          "base_uri": "https://localhost:8080/",
          "height": 173
        },
        "outputId": "5d3a19ba-bbdf-44f6-88ca-d35a51b2cb6a"
      },
      "cell_type": "code",
      "source": [
        "train_df.NAME_TYPE_SUITE = train_df.NAME_TYPE_SUITE.fillna(train_df.NAME_TYPE_SUITE.mode()[0])\n",
        "\n",
        "na_sum = train_df.isnull().sum()\n",
        "na_sum = na_sum[na_sum != 0].sort_values(ascending = False).reset_index() #only show rows with null values\n",
        "na_sum.columns = [\"variable\", \"n_missing\"]\n",
        "na_sum\n",
        "\n"
      ],
      "execution_count": 49,
      "outputs": [
        {
          "output_type": "execute_result",
          "data": {
            "text/html": [
              "<div>\n",
              "<style scoped>\n",
              "    .dataframe tbody tr th:only-of-type {\n",
              "        vertical-align: middle;\n",
              "    }\n",
              "\n",
              "    .dataframe tbody tr th {\n",
              "        vertical-align: top;\n",
              "    }\n",
              "\n",
              "    .dataframe thead th {\n",
              "        text-align: right;\n",
              "    }\n",
              "</style>\n",
              "<table border=\"1\" class=\"dataframe\">\n",
              "  <thead>\n",
              "    <tr style=\"text-align: right;\">\n",
              "      <th></th>\n",
              "      <th>variable</th>\n",
              "      <th>n_missing</th>\n",
              "    </tr>\n",
              "  </thead>\n",
              "  <tbody>\n",
              "    <tr>\n",
              "      <th>0</th>\n",
              "      <td>AMT_GOODS_PRICE</td>\n",
              "      <td>278</td>\n",
              "    </tr>\n",
              "    <tr>\n",
              "      <th>1</th>\n",
              "      <td>AMT_ANNUITY</td>\n",
              "      <td>12</td>\n",
              "    </tr>\n",
              "    <tr>\n",
              "      <th>2</th>\n",
              "      <td>CNT_FAM_MEMBERS</td>\n",
              "      <td>2</td>\n",
              "    </tr>\n",
              "    <tr>\n",
              "      <th>3</th>\n",
              "      <td>DAYS_LAST_PHONE_CHANGE</td>\n",
              "      <td>1</td>\n",
              "    </tr>\n",
              "  </tbody>\n",
              "</table>\n",
              "</div>"
            ],
            "text/plain": [
              "                 variable  n_missing\n",
              "0         AMT_GOODS_PRICE        278\n",
              "1             AMT_ANNUITY         12\n",
              "2         CNT_FAM_MEMBERS          2\n",
              "3  DAYS_LAST_PHONE_CHANGE          1"
            ]
          },
          "metadata": {
            "tags": []
          },
          "execution_count": 49
        }
      ]
    },
    {
      "metadata": {
        "colab_type": "code",
        "id": "a3gwkidmLYfM",
        "colab": {
          "base_uri": "https://localhost:8080/",
          "height": 330
        },
        "outputId": "515ea1c1-dc87-4448-9a76-3f8b7b46e25f"
      },
      "cell_type": "code",
      "source": [
        "sns.countplot(train_df.CNT_FAM_MEMBERS)"
      ],
      "execution_count": 50,
      "outputs": [
        {
          "output_type": "stream",
          "text": [
            "/usr/local/lib/python3.6/dist-packages/seaborn/categorical.py:1428: FutureWarning: remove_na is deprecated and is a private function. Do not use.\n",
            "  stat_data = remove_na(group_data)\n"
          ],
          "name": "stderr"
        },
        {
          "output_type": "execute_result",
          "data": {
            "text/plain": [
              "<matplotlib.axes._subplots.AxesSubplot at 0x7f8b7bc24f28>"
            ]
          },
          "metadata": {
            "tags": []
          },
          "execution_count": 50
        },
        {
          "output_type": "display_data",
          "data": {
            "image/png": "[encoded data removed]",
            "text/plain": [
              "<Figure size 432x288 with 1 Axes>"
            ]
          },
          "metadata": {
            "tags": []
          }
        }
      ]
    },
    {
      "metadata": {
        "colab_type": "code",
        "id": "BmtS1KBULbas",
        "colab": {}
      },
      "cell_type": "code",
      "source": [
        "train_df.CNT_FAM_MEMBERS = train_df.CNT_FAM_MEMBERS.fillna(train_df.CNT_FAM_MEMBERS.mode()[0])"
      ],
      "execution_count": 0,
      "outputs": []
    },
    {
      "metadata": {
        "colab_type": "code",
        "id": "Zndc7AakLw31",
        "colab": {
          "base_uri": "https://localhost:8080/",
          "height": 350
        },
        "outputId": "173d79b8-4536-4428-9402-8d661652bb2b"
      },
      "cell_type": "code",
      "source": [
        "sns.kdeplot(train_df.DAYS_LAST_PHONE_CHANGE)"
      ],
      "execution_count": 52,
      "outputs": [
        {
          "output_type": "stream",
          "text": [
            "/usr/local/lib/python3.6/dist-packages/statsmodels/nonparametric/kde.py:454: RuntimeWarning: invalid value encountered in greater\n",
            "  X = X[np.logical_and(X>clip[0], X<clip[1])] # won't work for two columns.\n",
            "/usr/local/lib/python3.6/dist-packages/statsmodels/nonparametric/kde.py:454: RuntimeWarning: invalid value encountered in less\n",
            "  X = X[np.logical_and(X>clip[0], X<clip[1])] # won't work for two columns.\n"
          ],
          "name": "stderr"
        },
        {
          "output_type": "execute_result",
          "data": {
            "text/plain": [
              "<matplotlib.axes._subplots.AxesSubplot at 0x7f8b7bbada20>"
            ]
          },
          "metadata": {
            "tags": []
          },
          "execution_count": 52
        },
        {
          "output_type": "display_data",
          "data": {
            "image/png": "[encoded data removed]",
            "text/plain": [
              "<Figure size 432x288 with 1 Axes>"
            ]
          },
          "metadata": {
            "tags": []
          }
        }
      ]
    },
    {
      "metadata": {
        "colab_type": "code",
        "id": "ZB-w2XxgL4FD",
        "colab": {}
      },
      "cell_type": "code",
      "source": [
        "train_df.DAYS_LAST_PHONE_CHANGE = train_df.DAYS_LAST_PHONE_CHANGE.fillna(train_df.DAYS_LAST_PHONE_CHANGE.mode()[0])"
      ],
      "execution_count": 0,
      "outputs": []
    },
    {
      "metadata": {
        "colab_type": "code",
        "id": "Epb9zXFWMAeb",
        "colab": {
          "base_uri": "https://localhost:8080/",
          "height": 350
        },
        "outputId": "cb570a85-25bc-44d9-ec7c-00337d80cb67"
      },
      "cell_type": "code",
      "source": [
        "sns.kdeplot(train_df.AMT_ANNUITY)"
      ],
      "execution_count": 54,
      "outputs": [
        {
          "output_type": "stream",
          "text": [
            "/usr/local/lib/python3.6/dist-packages/statsmodels/nonparametric/kde.py:454: RuntimeWarning: invalid value encountered in greater\n",
            "  X = X[np.logical_and(X>clip[0], X<clip[1])] # won't work for two columns.\n",
            "/usr/local/lib/python3.6/dist-packages/statsmodels/nonparametric/kde.py:454: RuntimeWarning: invalid value encountered in less\n",
            "  X = X[np.logical_and(X>clip[0], X<clip[1])] # won't work for two columns.\n"
          ],
          "name": "stderr"
        },
        {
          "output_type": "execute_result",
          "data": {
            "text/plain": [
              "<matplotlib.axes._subplots.AxesSubplot at 0x7f8b7bb0d780>"
            ]
          },
          "metadata": {
            "tags": []
          },
          "execution_count": 54
        },
        {
          "output_type": "display_data",
          "data": {
            "image/png": "[encoded data removed]",
            "text/plain": [
              "<Figure size 432x288 with 1 Axes>"
            ]
          },
          "metadata": {
            "tags": []
          }
        }
      ]
    },
    {
      "metadata": {
        "colab_type": "code",
        "id": "A0iYEGbcME-r",
        "colab": {}
      },
      "cell_type": "code",
      "source": [
        "train_df.AMT_ANNUITY = train_df.AMT_ANNUITY.fillna(train_df.AMT_ANNUITY.median())"
      ],
      "execution_count": 0,
      "outputs": []
    },
    {
      "metadata": {
        "colab_type": "code",
        "id": "7h2yjgA2MJ7Y",
        "colab": {
          "base_uri": "https://localhost:8080/",
          "height": 347
        },
        "outputId": "129691d5-3554-4dfa-8fec-bd2a5743910a"
      },
      "cell_type": "code",
      "source": [
        "sns.distplot(train_df.AMT_GOODS_PRICE[pd.notnull(train_df.AMT_GOODS_PRICE)])"
      ],
      "execution_count": 56,
      "outputs": [
        {
          "output_type": "stream",
          "text": [
            "/usr/local/lib/python3.6/dist-packages/matplotlib/axes/_axes.py:6521: MatplotlibDeprecationWarning: \n",
            "The 'normed' kwarg was deprecated in Matplotlib 2.1 and will be removed in 3.1. Use 'density' instead.\n",
            "  alternative=\"'density'\", removal=\"3.1\")\n"
          ],
          "name": "stderr"
        },
        {
          "output_type": "execute_result",
          "data": {
            "text/plain": [
              "<matplotlib.axes._subplots.AxesSubplot at 0x7f8b7baa0240>"
            ]
          },
          "metadata": {
            "tags": []
          },
          "execution_count": 56
        },
        {
          "output_type": "display_data",
          "data": {
            "image/png": "[encoded data removed]",
            "text/plain": [
              "<Figure size 432x288 with 1 Axes>"
            ]
          },
          "metadata": {
            "tags": []
          }
        }
      ]
    },
    {
      "metadata": {
        "colab_type": "code",
        "id": "UnF2Fng-MQLd",
        "colab": {
          "base_uri": "https://localhost:8080/",
          "height": 347
        },
        "outputId": "0c9ae06d-6ca7-49a6-f204-f9fb291bd762"
      },
      "cell_type": "code",
      "source": [
        "train_df.AMT_GOODS_PRICE = train_df.AMT_GOODS_PRICE.fillna(train_df.AMT_GOODS_PRICE.mode()[0])\n",
        "sns.distplot(train_df.AMT_GOODS_PRICE)"
      ],
      "execution_count": 57,
      "outputs": [
        {
          "output_type": "stream",
          "text": [
            "/usr/local/lib/python3.6/dist-packages/matplotlib/axes/_axes.py:6521: MatplotlibDeprecationWarning: \n",
            "The 'normed' kwarg was deprecated in Matplotlib 2.1 and will be removed in 3.1. Use 'density' instead.\n",
            "  alternative=\"'density'\", removal=\"3.1\")\n"
          ],
          "name": "stderr"
        },
        {
          "output_type": "execute_result",
          "data": {
            "text/plain": [
              "<matplotlib.axes._subplots.AxesSubplot at 0x7f8b7bac2dd8>"
            ]
          },
          "metadata": {
            "tags": []
          },
          "execution_count": 57
        },
        {
          "output_type": "display_data",
          "data": {
            "image/png": "[encoded data removed]",
            "text/plain": [
              "<Figure size 432x288 with 1 Axes>"
            ]
          },
          "metadata": {
            "tags": []
          }
        }
      ]
    },
    {
      "metadata": {
        "colab_type": "code",
        "id": "xJ6DlINjMZ2Z",
        "colab": {
          "base_uri": "https://localhost:8080/",
          "height": 49
        },
        "outputId": "c28a9d93-9012-42e5-de79-eb700190b211"
      },
      "cell_type": "code",
      "source": [
        "train_df.NAME_TYPE_SUITE = train_df.NAME_TYPE_SUITE.fillna(train_df.NAME_TYPE_SUITE.mode()[0])\n",
        "\n",
        "na_sum = train_df.isnull().sum()\n",
        "na_sum = na_sum[na_sum != 0].sort_values(ascending = False).reset_index() #only show rows with null values\n",
        "na_sum.columns = [\"variable\", \"n_missing\"]\n",
        "na_sum"
      ],
      "execution_count": 58,
      "outputs": [
        {
          "output_type": "execute_result",
          "data": {
            "text/html": [
              "<div>\n",
              "<style scoped>\n",
              "    .dataframe tbody tr th:only-of-type {\n",
              "        vertical-align: middle;\n",
              "    }\n",
              "\n",
              "    .dataframe tbody tr th {\n",
              "        vertical-align: top;\n",
              "    }\n",
              "\n",
              "    .dataframe thead th {\n",
              "        text-align: right;\n",
              "    }\n",
              "</style>\n",
              "<table border=\"1\" class=\"dataframe\">\n",
              "  <thead>\n",
              "    <tr style=\"text-align: right;\">\n",
              "      <th></th>\n",
              "      <th>variable</th>\n",
              "      <th>n_missing</th>\n",
              "    </tr>\n",
              "  </thead>\n",
              "  <tbody>\n",
              "  </tbody>\n",
              "</table>\n",
              "</div>"
            ],
            "text/plain": [
              "Empty DataFrame\n",
              "Columns: [variable, n_missing]\n",
              "Index: []"
            ]
          },
          "metadata": {
            "tags": []
          },
          "execution_count": 58
        }
      ]
    },
    {
      "metadata": {
        "colab_type": "code",
        "id": "LQg-tb50MnKH",
        "colab": {}
      },
      "cell_type": "code",
      "source": [
        "# from sklearn.decomposition import PCA\n",
        "# from sklearn.preprocessing import StandardScaler\n",
        "# df = train_df.copy()\n",
        "# df = df.drop(columns = [\"SK_ID_CURR\", \"TARGET\"])\n",
        "# df = pd.get_dummies(df)\n",
        "\n",
        "# #scaling the components\n",
        "# ss = StandardScaler()\n",
        "# df = ss.fit_transform(df)\n",
        "\n",
        "# pca = PCA(random_state = 0)\n",
        "# df_decomposed = pca.fit(df)\n",
        "# df = pca.transform(df)"
      ],
      "execution_count": 0,
      "outputs": []
    },
    {
      "metadata": {
        "colab_type": "code",
        "id": "BerIrHWMPD3F",
        "colab": {
          "base_uri": "https://localhost:8080/",
          "height": 181
        },
        "outputId": "c1b00df3-f9e8-49dd-f3eb-66675604f4e3"
      },
      "cell_type": "code",
      "source": [
        "# df[0]\n",
        "df.shape\n",
        "# # train_df.lable"
      ],
      "execution_count": 60,
      "outputs": [
        {
          "output_type": "error",
          "ename": "NameError",
          "evalue": "ignored",
          "traceback": [
            "\u001b[0;31m---------------------------------------------------------------------------\u001b[0m",
            "\u001b[0;31mNameError\u001b[0m                                 Traceback (most recent call last)",
            "\u001b[0;32m<ipython-input-60-f39abd1fccdb>\u001b[0m in \u001b[0;36m<module>\u001b[0;34m()\u001b[0m\n\u001b[0;32m----> 1\u001b[0;31m \u001b[0mdf\u001b[0m\u001b[0;34m.\u001b[0m\u001b[0mshape\u001b[0m\u001b[0;34m\u001b[0m\u001b[0;34m\u001b[0m\u001b[0m\n\u001b[0m\u001b[1;32m      2\u001b[0m \u001b[0;31m# # train_df.lable\u001b[0m\u001b[0;34m\u001b[0m\u001b[0;34m\u001b[0m\u001b[0;34m\u001b[0m\u001b[0m\n",
            "\u001b[0;31mNameError\u001b[0m: name 'df' is not defined"
          ]
        }
      ]
    },
    {
      "metadata": {
        "id": "8aWXnhFsZn5j",
        "colab_type": "code",
        "colab": {}
      },
      "cell_type": "code",
      "source": [
        "train_df.shape"
      ],
      "execution_count": 0,
      "outputs": []
    },
    {
      "metadata": {
        "colab_type": "code",
        "id": "nagYqCO9CCQz",
        "colab": {
          "base_uri": "https://localhost:8080/",
          "height": 232
        },
        "outputId": "d1d22b51-823d-44e3-9930-0dca07844d86"
      },
      "cell_type": "code",
      "source": [
        "cumulative_var = []\n",
        "cumul_var = 0\n",
        "for exvar in df_decomposed.explained_variance_ratio_:\n",
        "    cumul_var = exvar + cumul_var\n",
        "    cumulative_var.append(cumul_var)"
      ],
      "execution_count": 61,
      "outputs": [
        {
          "output_type": "error",
          "ename": "NameError",
          "evalue": "ignored",
          "traceback": [
            "\u001b[0;31m---------------------------------------------------------------------------\u001b[0m",
            "\u001b[0;31mNameError\u001b[0m                                 Traceback (most recent call last)",
            "\u001b[0;32m<ipython-input-61-cce70d26b248>\u001b[0m in \u001b[0;36m<module>\u001b[0;34m()\u001b[0m\n\u001b[1;32m      1\u001b[0m \u001b[0mcumulative_var\u001b[0m \u001b[0;34m=\u001b[0m \u001b[0;34m[\u001b[0m\u001b[0;34m]\u001b[0m\u001b[0;34m\u001b[0m\u001b[0;34m\u001b[0m\u001b[0m\n\u001b[1;32m      2\u001b[0m \u001b[0mcumul_var\u001b[0m \u001b[0;34m=\u001b[0m \u001b[0;36m0\u001b[0m\u001b[0;34m\u001b[0m\u001b[0;34m\u001b[0m\u001b[0m\n\u001b[0;32m----> 3\u001b[0;31m \u001b[0;32mfor\u001b[0m \u001b[0mexvar\u001b[0m \u001b[0;32min\u001b[0m \u001b[0mdf_decomposed\u001b[0m\u001b[0;34m.\u001b[0m\u001b[0mexplained_variance_ratio_\u001b[0m\u001b[0;34m:\u001b[0m\u001b[0;34m\u001b[0m\u001b[0;34m\u001b[0m\u001b[0m\n\u001b[0m\u001b[1;32m      4\u001b[0m     \u001b[0mcumul_var\u001b[0m \u001b[0;34m=\u001b[0m \u001b[0mexvar\u001b[0m \u001b[0;34m+\u001b[0m \u001b[0mcumul_var\u001b[0m\u001b[0;34m\u001b[0m\u001b[0;34m\u001b[0m\u001b[0m\n\u001b[1;32m      5\u001b[0m     \u001b[0mcumulative_var\u001b[0m\u001b[0;34m.\u001b[0m\u001b[0mappend\u001b[0m\u001b[0;34m(\u001b[0m\u001b[0mcumul_var\u001b[0m\u001b[0;34m)\u001b[0m\u001b[0;34m\u001b[0m\u001b[0;34m\u001b[0m\u001b[0m\n",
            "\u001b[0;31mNameError\u001b[0m: name 'df_decomposed' is not defined"
          ]
        }
      ]
    },
    {
      "metadata": {
        "colab_type": "code",
        "id": "exZZ5suMCQ_6",
        "colab": {}
      },
      "cell_type": "code",
      "source": [
        "plt.plot(cumulative_var, label = \"cumulative explained variance\")\n",
        "plt.plot(df_decomposed.explained_variance_ratio_, label = \"individual explained variance\")\n",
        "plt.legend();"
      ],
      "execution_count": 0,
      "outputs": []
    },
    {
      "metadata": {
        "id": "vK1W-oMNyeg0",
        "colab_type": "code",
        "colab": {}
      },
      "cell_type": "code",
      "source": [
        "# from sklearn.model_selection import KFold, StratifiedKFold\n",
        "# import time\n",
        "\n",
        "\n",
        "# kf = KFold(n_splits=5, shuffle = True, random_state = 1001)\n",
        "# # kf.split(train_df)\n",
        "\n",
        "# feats = [f for f in train_df.columns if f not in ['TARGET','SK_ID_CURR','SK_ID_BUREAU','SK_ID_PREV','index']]\n",
        "\n",
        "# for n_fold, (train_idx, valid_idx) in enumerate(kf.split(train_df[feats], train_df['TARGET'])):\n",
        "#         print('Fold', n_fold, 'started at', time.ctime())\n",
        "#         x_train, y_train, = train_df[feats].iloc[train_idx], train_df['TARGET'].iloc[train_idx]\n",
        "#         x_val,  y_val = train_df[feats].iloc[valid_idx], train_df['TARGET'].iloc[valid_idx]\n"
      ],
      "execution_count": 0,
      "outputs": []
    },
    {
      "metadata": {
        "colab_type": "code",
        "id": "3HoSTspNHT3l",
        "colab": {}
      },
      "cell_type": "code",
      "source": [
        "\n",
        "\n",
        "# read the test files \n",
        "\n",
        "test_df['is_test'] = 1 \n",
        "test_df['is_train'] = 0\n",
        "train_df['is_test'] = 0\n",
        "train_df['is_train'] = 1\n",
        "\n",
        "# target variable\n",
        "Y = train_df['TARGET']\n",
        "train_X = train_df.drop(['TARGET'], axis = 1)\n",
        "\n",
        "# test ID\n",
        "test_id = test_df['SK_ID_CURR']\n",
        "test_X = test_df\n",
        "\n",
        "# merge train and test datasets for preprocessing\n",
        "data = pd.concat([train_X, test_X], axis=0)"
      ],
      "execution_count": 0,
      "outputs": []
    },
    {
      "metadata": {
        "id": "X-tZH-9QqN6C",
        "colab_type": "code",
        "colab": {}
      },
      "cell_type": "code",
      "source": [
        "data = data.merge(right=bureau_df.reset_index(), how='left', on='SK_ID_CURR')"
      ],
      "execution_count": 0,
      "outputs": []
    },
    {
      "metadata": {
        "id": "KcqELmIShM4G",
        "colab_type": "code",
        "colab": {}
      },
      "cell_type": "code",
      "source": [
        "data = data.merge(right=prev_df.reset_index(), how='left', on='SK_ID_CURR')"
      ],
      "execution_count": 0,
      "outputs": []
    },
    {
      "metadata": {
        "id": "q6T-Wj4eiT0T",
        "colab_type": "code",
        "colab": {
          "base_uri": "https://localhost:8080/",
          "height": 34
        },
        "outputId": "af8429c4-240e-4af2-882f-c0d938b9eee9"
      },
      "cell_type": "code",
      "source": [
        "data.shape"
      ],
      "execution_count": 83,
      "outputs": [
        {
          "output_type": "execute_result",
          "data": {
            "text/plain": [
              "(1687612, 174)"
            ]
          },
          "metadata": {
            "tags": []
          },
          "execution_count": 83
        }
      ]
    },
    {
      "metadata": {
        "colab_type": "code",
        "id": "ivUOHIAzbo--",
        "colab": {}
      },
      "cell_type": "code",
      "source": [
        "# categorical_columns = [col for col in train_df.columns \\\n",
        "#                        if not pd.api.types.is_numeric_dtype(train_df[col].dtype)]\n",
        "\n",
        "categorical_columns = [col for col in data.columns \\\n",
        "                       if not pd.api.types.is_numeric_dtype(data[col].dtype)]\n",
        "\n"
      ],
      "execution_count": 0,
      "outputs": []
    },
    {
      "metadata": {
        "colab_type": "code",
        "id": "9smlbGeTBXvx",
        "colab": {
          "base_uri": "https://localhost:8080/",
          "height": 289
        },
        "outputId": "c371af1d-8496-4c7e-dfb8-4cc4c67e224d"
      },
      "cell_type": "code",
      "source": [
        "categorical_columns"
      ],
      "execution_count": 81,
      "outputs": [
        {
          "output_type": "execute_result",
          "data": {
            "text/plain": [
              "['NAME_CONTRACT_TYPE_y',\n",
              " 'WEEKDAY_APPR_PROCESS_START_y',\n",
              " 'FLAG_LAST_APPL_PER_CONTRACT',\n",
              " 'NAME_CASH_LOAN_PURPOSE',\n",
              " 'NAME_CONTRACT_STATUS',\n",
              " 'NAME_PAYMENT_TYPE',\n",
              " 'CODE_REJECT_REASON',\n",
              " 'NAME_TYPE_SUITE_y',\n",
              " 'NAME_CLIENT_TYPE',\n",
              " 'NAME_GOODS_CATEGORY',\n",
              " 'NAME_PORTFOLIO',\n",
              " 'NAME_PRODUCT_TYPE',\n",
              " 'CHANNEL_TYPE',\n",
              " 'NAME_SELLER_INDUSTRY',\n",
              " 'NAME_YIELD_GROUP',\n",
              " 'PRODUCT_COMBINATION']"
            ]
          },
          "metadata": {
            "tags": []
          },
          "execution_count": 81
        }
      ]
    },
    {
      "metadata": {
        "id": "MNw-DzGwKGrG",
        "colab_type": "code",
        "colab": {
          "base_uri": "https://localhost:8080/",
          "height": 1071
        },
        "outputId": "9bda8744-5667-447d-a99f-88b3ef4cd7ba"
      },
      "cell_type": "code",
      "source": [
        "\"LabelEncoder\"\n",
        "\n",
        "from sklearn.preprocessing import LabelEncoder\n",
        "for c in categorical_columns:\n",
        "    lbl = LabelEncoder() \n",
        "    lbl.fit(list(data[c].values)) \n",
        "    data[c] = lbl.transform(list(data[c].values))\n",
        "data['CODE_GENDER']"
      ],
      "execution_count": 82,
      "outputs": [
        {
          "output_type": "execute_result",
          "data": {
            "text/plain": [
              "0          1\n",
              "1          0\n",
              "2          0\n",
              "3          0\n",
              "4          1\n",
              "5          0\n",
              "6          0\n",
              "7          0\n",
              "8          0\n",
              "9          0\n",
              "10         0\n",
              "11         0\n",
              "12         0\n",
              "13         0\n",
              "14         1\n",
              "15         1\n",
              "16         1\n",
              "17         1\n",
              "18         1\n",
              "19         1\n",
              "20         1\n",
              "21         1\n",
              "22         1\n",
              "23         1\n",
              "24         1\n",
              "25         0\n",
              "26         0\n",
              "27         0\n",
              "28         0\n",
              "29         0\n",
              "          ..\n",
              "1687582    0\n",
              "1687583    0\n",
              "1687584    0\n",
              "1687585    0\n",
              "1687586    0\n",
              "1687587    0\n",
              "1687588    0\n",
              "1687589    0\n",
              "1687590    0\n",
              "1687591    0\n",
              "1687592    0\n",
              "1687593    0\n",
              "1687594    0\n",
              "1687595    0\n",
              "1687596    0\n",
              "1687597    0\n",
              "1687598    0\n",
              "1687599    1\n",
              "1687600    1\n",
              "1687601    1\n",
              "1687602    1\n",
              "1687603    1\n",
              "1687604    0\n",
              "1687605    0\n",
              "1687606    0\n",
              "1687607    0\n",
              "1687608    0\n",
              "1687609    0\n",
              "1687610    0\n",
              "1687611    0\n",
              "Name: CODE_GENDER, Length: 1687612, dtype: int64"
            ]
          },
          "metadata": {
            "tags": []
          },
          "execution_count": 82
        }
      ]
    },
    {
      "metadata": {
        "id": "EpN8x7yib9eU",
        "colab_type": "code",
        "colab": {}
      },
      "cell_type": "code",
      "source": [
        "\"Factorise\"\n",
        "\n",
        "# for c in categorical_columns:\n",
        "#     data[c], _ = pd.factorize(data[c])\n",
        "\n",
        "# data['NAME_INCOME_TYPE']"
      ],
      "execution_count": 0,
      "outputs": []
    },
    {
      "metadata": {
        "id": "U8RT2WHtfKee",
        "colab_type": "code",
        "colab": {}
      },
      "cell_type": "code",
      "source": [
        "\"Onehotencoding\""
      ],
      "execution_count": 0,
      "outputs": []
    },
    {
      "metadata": {
        "id": "_NhiCrthUAy_",
        "colab_type": "code",
        "colab": {}
      },
      "cell_type": "code",
      "source": [
        "ignore_features = ['SK_ID_CURR', 'is_train', 'is_test']\n",
        "relevant_features = [col for col in data.columns if col not in ignore_features]\n",
        "trainX = data[data['is_train'] == 1][relevant_features]\n",
        "testX = data[data['is_test'] == 1][relevant_features]"
      ],
      "execution_count": 0,
      "outputs": []
    },
    {
      "metadata": {
        "id": "xCxIfmxPyfc2",
        "colab_type": "text"
      },
      "cell_type": "markdown",
      "source": [
        "CV"
      ]
    },
    {
      "metadata": {
        "id": "MhWhGLJFya-i",
        "colab_type": "text"
      },
      "cell_type": "markdown",
      "source": [
        "Train_test_split"
      ]
    },
    {
      "metadata": {
        "id": "OXdQWjsWKGrP",
        "colab_type": "code",
        "colab": {
          "base_uri": "https://localhost:8080/",
          "height": 555
        },
        "outputId": "33c9ef0c-74ed-4a6b-c7a3-46f8b31dad5a"
      },
      "cell_type": "code",
      "source": [
        "from sklearn.model_selection import train_test_split\n",
        "\n",
        "x_train, x_val, y_train, y_val = train_test_split(trainX, Y, test_size=0.2, random_state=18)\n"
      ],
      "execution_count": 85,
      "outputs": [
        {
          "output_type": "error",
          "ename": "ValueError",
          "evalue": "ignored",
          "traceback": [
            "\u001b[0;31m---------------------------------------------------------------------------\u001b[0m",
            "\u001b[0;31mValueError\u001b[0m                                Traceback (most recent call last)",
            "\u001b[0;32m<ipython-input-85-42f28183c7a1>\u001b[0m in \u001b[0;36m<module>\u001b[0;34m()\u001b[0m\n\u001b[1;32m      1\u001b[0m \u001b[0;32mfrom\u001b[0m \u001b[0msklearn\u001b[0m\u001b[0;34m.\u001b[0m\u001b[0mmodel_selection\u001b[0m \u001b[0;32mimport\u001b[0m \u001b[0mtrain_test_split\u001b[0m\u001b[0;34m\u001b[0m\u001b[0;34m\u001b[0m\u001b[0m\n\u001b[1;32m      2\u001b[0m \u001b[0;34m\u001b[0m\u001b[0m\n\u001b[0;32m----> 3\u001b[0;31m \u001b[0mx_train\u001b[0m\u001b[0;34m,\u001b[0m \u001b[0mx_val\u001b[0m\u001b[0;34m,\u001b[0m \u001b[0my_train\u001b[0m\u001b[0;34m,\u001b[0m \u001b[0my_val\u001b[0m \u001b[0;34m=\u001b[0m \u001b[0mtrain_test_split\u001b[0m\u001b[0;34m(\u001b[0m\u001b[0mtrainX\u001b[0m\u001b[0;34m,\u001b[0m \u001b[0mY\u001b[0m\u001b[0;34m,\u001b[0m \u001b[0mtest_size\u001b[0m\u001b[0;34m=\u001b[0m\u001b[0;36m0.2\u001b[0m\u001b[0;34m,\u001b[0m \u001b[0mrandom_state\u001b[0m\u001b[0;34m=\u001b[0m\u001b[0;36m18\u001b[0m\u001b[0;34m)\u001b[0m\u001b[0;34m\u001b[0m\u001b[0;34m\u001b[0m\u001b[0m\n\u001b[0m",
            "\u001b[0;32m/usr/local/lib/python3.6/dist-packages/sklearn/model_selection/_split.py\u001b[0m in \u001b[0;36mtrain_test_split\u001b[0;34m(*arrays, **options)\u001b[0m\n\u001b[1;32m   2182\u001b[0m         \u001b[0mtest_size\u001b[0m \u001b[0;34m=\u001b[0m \u001b[0;36m0.25\u001b[0m\u001b[0;34m\u001b[0m\u001b[0;34m\u001b[0m\u001b[0m\n\u001b[1;32m   2183\u001b[0m \u001b[0;34m\u001b[0m\u001b[0m\n\u001b[0;32m-> 2184\u001b[0;31m     \u001b[0marrays\u001b[0m \u001b[0;34m=\u001b[0m \u001b[0mindexable\u001b[0m\u001b[0;34m(\u001b[0m\u001b[0;34m*\u001b[0m\u001b[0marrays\u001b[0m\u001b[0;34m)\u001b[0m\u001b[0;34m\u001b[0m\u001b[0;34m\u001b[0m\u001b[0m\n\u001b[0m\u001b[1;32m   2185\u001b[0m \u001b[0;34m\u001b[0m\u001b[0m\n\u001b[1;32m   2186\u001b[0m     \u001b[0;32mif\u001b[0m \u001b[0mshuffle\u001b[0m \u001b[0;32mis\u001b[0m \u001b[0;32mFalse\u001b[0m\u001b[0;34m:\u001b[0m\u001b[0;34m\u001b[0m\u001b[0;34m\u001b[0m\u001b[0m\n",
            "\u001b[0;32m/usr/local/lib/python3.6/dist-packages/sklearn/utils/validation.py\u001b[0m in \u001b[0;36mindexable\u001b[0;34m(*iterables)\u001b[0m\n\u001b[1;32m    258\u001b[0m         \u001b[0;32melse\u001b[0m\u001b[0;34m:\u001b[0m\u001b[0;34m\u001b[0m\u001b[0;34m\u001b[0m\u001b[0m\n\u001b[1;32m    259\u001b[0m             \u001b[0mresult\u001b[0m\u001b[0;34m.\u001b[0m\u001b[0mappend\u001b[0m\u001b[0;34m(\u001b[0m\u001b[0mnp\u001b[0m\u001b[0;34m.\u001b[0m\u001b[0marray\u001b[0m\u001b[0;34m(\u001b[0m\u001b[0mX\u001b[0m\u001b[0;34m)\u001b[0m\u001b[0;34m)\u001b[0m\u001b[0;34m\u001b[0m\u001b[0;34m\u001b[0m\u001b[0m\n\u001b[0;32m--> 260\u001b[0;31m     \u001b[0mcheck_consistent_length\u001b[0m\u001b[0;34m(\u001b[0m\u001b[0;34m*\u001b[0m\u001b[0mresult\u001b[0m\u001b[0;34m)\u001b[0m\u001b[0;34m\u001b[0m\u001b[0;34m\u001b[0m\u001b[0m\n\u001b[0m\u001b[1;32m    261\u001b[0m     \u001b[0;32mreturn\u001b[0m \u001b[0mresult\u001b[0m\u001b[0;34m\u001b[0m\u001b[0;34m\u001b[0m\u001b[0m\n\u001b[1;32m    262\u001b[0m \u001b[0;34m\u001b[0m\u001b[0m\n",
            "\u001b[0;32m/usr/local/lib/python3.6/dist-packages/sklearn/utils/validation.py\u001b[0m in \u001b[0;36mcheck_consistent_length\u001b[0;34m(*arrays)\u001b[0m\n\u001b[1;32m    233\u001b[0m     \u001b[0;32mif\u001b[0m \u001b[0mlen\u001b[0m\u001b[0;34m(\u001b[0m\u001b[0muniques\u001b[0m\u001b[0;34m)\u001b[0m \u001b[0;34m>\u001b[0m \u001b[0;36m1\u001b[0m\u001b[0;34m:\u001b[0m\u001b[0;34m\u001b[0m\u001b[0;34m\u001b[0m\u001b[0m\n\u001b[1;32m    234\u001b[0m         raise ValueError(\"Found input variables with inconsistent numbers of\"\n\u001b[0;32m--> 235\u001b[0;31m                          \" samples: %r\" % [int(l) for l in lengths])\n\u001b[0m\u001b[1;32m    236\u001b[0m \u001b[0;34m\u001b[0m\u001b[0m\n\u001b[1;32m    237\u001b[0m \u001b[0;34m\u001b[0m\u001b[0m\n",
            "\u001b[0;31mValueError\u001b[0m: Found input variables with inconsistent numbers of samples: [1430155, 307511]"
          ]
        }
      ]
    },
    {
      "metadata": {
        "id": "aYzNdD_SIyL0",
        "colab_type": "code",
        "colab": {}
      },
      "cell_type": "code",
      "source": [
        "import lightgbm as lgb\n",
        "\n",
        "lgb_train = lgb.Dataset(data=x_train, label=y_train)\n",
        "lgb_eval = lgb.Dataset(data=x_val, label=y_val)"
      ],
      "execution_count": 0,
      "outputs": []
    },
    {
      "metadata": {
        "id": "1IOeGhmzJMXX",
        "colab_type": "code",
        "colab": {
          "base_uri": "https://localhost:8080/",
          "height": 221
        },
        "outputId": "0d049bce-ecd7-4ed2-8e42-9435ddc3cec7"
      },
      "cell_type": "code",
      "source": [
        "params = {'task': 'train', 'boosting_type': 'gbdt', 'objective': 'binary', 'metric': 'auc', \n",
        "          'learning_rate': 0.01, 'num_leaves': 48, 'num_iteration': 5000, 'verbose': 0 ,\n",
        "          'colsample_bytree':.8, 'subsample':.9, 'max_depth':7, 'reg_alpha':.1, 'reg_lambda':.1, \n",
        "          'min_split_gain':.01, 'min_child_weight':1}\n",
        "model = lgb.train(params, lgb_train, valid_sets=lgb_eval, early_stopping_rounds=150, verbose_eval=200)"
      ],
      "execution_count": 71,
      "outputs": [
        {
          "output_type": "stream",
          "text": [
            "/usr/local/lib/python3.6/dist-packages/lightgbm/engine.py:118: UserWarning: Found `num_iteration` in params. Will use it instead of argument\n",
            "  warnings.warn(\"Found `{}` in params. Will use it instead of argument\".format(alias))\n"
          ],
          "name": "stderr"
        },
        {
          "output_type": "stream",
          "text": [
            "Training until validation scores don't improve for 150 rounds.\n",
            "[200]\tvalid_0's auc: 0.727607\n",
            "[400]\tvalid_0's auc: 0.737029\n",
            "[600]\tvalid_0's auc: 0.741728\n",
            "[800]\tvalid_0's auc: 0.743723\n",
            "[1000]\tvalid_0's auc: 0.74485\n",
            "[1200]\tvalid_0's auc: 0.745406\n",
            "[1400]\tvalid_0's auc: 0.745935\n",
            "Early stopping, best iteration is:\n",
            "[1438]\tvalid_0's auc: 0.745995\n"
          ],
          "name": "stdout"
        }
      ]
    },
    {
      "metadata": {
        "id": "9Vun7ItFJk2m",
        "colab_type": "code",
        "colab": {
          "base_uri": "https://localhost:8080/",
          "height": 1436
        },
        "outputId": "6549c36e-8f80-4d99-f11a-fe4ab65b3fcb"
      },
      "cell_type": "code",
      "source": [
        "lgb.plot_importance(model, figsize=(12, 25), max_num_features=100);\n"
      ],
      "execution_count": 72,
      "outputs": [
        {
          "output_type": "display_data",
          "data": {
            "image/png": "[encoded data removed]",
            "text/plain": [
              "<Figure size 864x1800 with 1 Axes>"
            ]
          },
          "metadata": {
            "tags": []
          }
        }
      ]
    },
    {
      "metadata": {
        "id": "yKF4Y1x4KMec",
        "colab_type": "code",
        "colab": {
          "base_uri": "https://localhost:8080/",
          "height": 204
        },
        "outputId": "f5594773-f99a-4ac8-fa54-6670893a2505"
      },
      "cell_type": "code",
      "source": [
        "preds = model.predict(testX)\n",
        "sub_lgb = pd.DataFrame()\n",
        "sub_lgb['SK_ID_CURR'] = test_id\n",
        "sub_lgb['TARGET'] = preds\n",
        "sub_lgb.to_csv(\"lgb_baseline.csv\", index=False)\n",
        "sub_lgb.head()"
      ],
      "execution_count": 73,
      "outputs": [
        {
          "output_type": "execute_result",
          "data": {
            "text/html": [
              "<div>\n",
              "<style scoped>\n",
              "    .dataframe tbody tr th:only-of-type {\n",
              "        vertical-align: middle;\n",
              "    }\n",
              "\n",
              "    .dataframe tbody tr th {\n",
              "        vertical-align: top;\n",
              "    }\n",
              "\n",
              "    .dataframe thead th {\n",
              "        text-align: right;\n",
              "    }\n",
              "</style>\n",
              "<table border=\"1\" class=\"dataframe\">\n",
              "  <thead>\n",
              "    <tr style=\"text-align: right;\">\n",
              "      <th></th>\n",
              "      <th>SK_ID_CURR</th>\n",
              "      <th>TARGET</th>\n",
              "    </tr>\n",
              "  </thead>\n",
              "  <tbody>\n",
              "    <tr>\n",
              "      <th>0</th>\n",
              "      <td>100001</td>\n",
              "      <td>0.016601</td>\n",
              "    </tr>\n",
              "    <tr>\n",
              "      <th>1</th>\n",
              "      <td>100005</td>\n",
              "      <td>0.262451</td>\n",
              "    </tr>\n",
              "    <tr>\n",
              "      <th>2</th>\n",
              "      <td>100013</td>\n",
              "      <td>0.020642</td>\n",
              "    </tr>\n",
              "    <tr>\n",
              "      <th>3</th>\n",
              "      <td>100028</td>\n",
              "      <td>0.030291</td>\n",
              "    </tr>\n",
              "    <tr>\n",
              "      <th>4</th>\n",
              "      <td>100038</td>\n",
              "      <td>0.152577</td>\n",
              "    </tr>\n",
              "  </tbody>\n",
              "</table>\n",
              "</div>"
            ],
            "text/plain": [
              "   SK_ID_CURR    TARGET\n",
              "0      100001  0.016601\n",
              "1      100005  0.262451\n",
              "2      100013  0.020642\n",
              "3      100028  0.030291\n",
              "4      100038  0.152577"
            ]
          },
          "metadata": {
            "tags": []
          },
          "execution_count": 73
        }
      ]
    },
    {
      "metadata": {
        "colab_type": "code",
        "id": "uorLTkYxGW5T",
        "colab": {}
      },
      "cell_type": "code",
      "source": [
        "# from sklearn.preprocessing import OneHotEncoder\n",
        "# onehotencoder = OneHotEncoder(categorical_features = [0])\n",
        "# train_df['NAME_CONTRACT_TYPE'] = onehotencoder.fit_transform(train_df['NAME_CONTRACT_TYPE']).toarray()"
      ],
      "execution_count": 0,
      "outputs": []
    },
    {
      "metadata": {
        "colab_type": "code",
        "id": "E8vFtLXQgw8W",
        "colab": {}
      },
      "cell_type": "code",
      "source": [
        "# for bin_feature in ['CODE_GENDER', 'FLAG_OWN_CAR', 'FLAG_OWN_REALTY']:\n",
        "#     train_df[bin_feature], _ = pd.factorize(train_df[bin_feature])\n",
        "    \n",
        "    "
      ],
      "execution_count": 0,
      "outputs": []
    },
    {
      "metadata": {
        "colab_type": "code",
        "id": "hVLSuXjYrlOb",
        "colab": {}
      },
      "cell_type": "code",
      "source": [
        "# from lightgbm import LGBMClassifier\n",
        "# clf = LGBMClassifier(\n",
        "#     nthread=4,\n",
        "#     n_estimators=10000,\n",
        "#     learning_rate=0.02,\n",
        "#     num_leaves=34,\n",
        "#     colsample_bytree=0.9497036,\n",
        "#             subsample=0.8715623,\n",
        "#             max_depth=8,\n",
        "#             reg_alpha=0.041545473,\n",
        "#             reg_lambda=0.0735294,\n",
        "#             min_split_gain=0.0222415,\n",
        "#             min_child_weight=39.3259775,\n",
        "#             silent=-1,\n",
        "#             verbose=-1, )\n",
        "\n",
        "# clf.fit(train_df, y_train_df, eval_set=[(train_x, train_y), (valid_x, valid_y)], \n",
        "#       eval_metric= 'auc', verbose= 200, early_stopping_rounds= 200)"
      ],
      "execution_count": 0,
      "outputs": []
    },
    {
      "metadata": {
        "colab_type": "text",
        "id": "h_JJvOSxGoAX"
      },
      "cell_type": "markdown",
      "source": [
        "LGBM"
      ]
    },
    {
      "metadata": {
        "colab_type": "code",
        "id": "kJYMA6AdGTDC",
        "colab": {}
      },
      "cell_type": "code",
      "source": [
        "# train_data=lgb.Dataset(train_df, label=y_train_df)\n",
        "\n",
        "# validation_data = train_data.create_valid('validation.svm')\n",
        "\n",
        "# # validation_data = lgb.Dataset('validation.svm', reference=train_data)\n",
        "\n"
      ],
      "execution_count": 0,
      "outputs": []
    },
    {
      "metadata": {
        "colab_type": "code",
        "id": "L6mgIjs2JSIW",
        "colab": {}
      },
      "cell_type": "code",
      "source": [
        "# params = {'colsample_bytree': (0.8),\n",
        "#           'learning_rate': (.01), \n",
        "#           'num_leaves': (33), \n",
        "#           'subsample': (0.8), \n",
        "#           'max_depth': (7), \n",
        "#           'reg_alpha': (.03), \n",
        "#           'reg_lambda': (.06), \n",
        "#           'min_split_gain': (.01),\n",
        "#           'min_child_weight': (38)}\n",
        "\n"
      ],
      "execution_count": 0,
      "outputs": []
    },
    {
      "metadata": {
        "colab_type": "code",
        "id": "gOBKJj4pLo0x",
        "colab": {}
      },
      "cell_type": "code",
      "source": [
        "# train_df ['FLAG_OWN_CAR']\n",
        "# # train_df ['NAME_CONTRACT_TYPE']\n",
        "# train_df['NAME_INCOME_TYPE']\n",
        "# train_df.dtypes\n",
        "# train_df.shape"
      ],
      "execution_count": 0,
      "outputs": []
    },
    {
      "metadata": {
        "colab_type": "code",
        "id": "QZqJM4eZKWxi",
        "colab": {}
      },
      "cell_type": "code",
      "source": [
        "# num_round = 10\n",
        "# bst = lgb.train(params, train_data, num_round, valid_sets=[validation_data])"
      ],
      "execution_count": 0,
      "outputs": []
    },
    {
      "metadata": {
        "colab_type": "code",
        "id": "LjMaYJc5dvuk",
        "colab": {}
      },
      "cell_type": "code",
      "source": [
        "# #data processing for train\n",
        "# train_df ['CODE_GENDER'].unique()\n",
        "# train_df = train_df[train_df['CODE_GENDER'] != 'XNA']\n",
        "# train_df ['CODE_GENDER'].unique()\n",
        "\n",
        "# train_df = train_df[train_df['AMT_INCOME_TOTAL'] < 20000000]  # Max income in test is 4M; train has a 117M value\n",
        "# train_df['DAYS_EMPLOYED'].replace(365243, np.nan, inplace=True)\n",
        "# train_df['DAYS_EMPLOYED'].replace(365243, np.nan, inplace=True)"
      ],
      "execution_count": 0,
      "outputs": []
    }
  ]
}